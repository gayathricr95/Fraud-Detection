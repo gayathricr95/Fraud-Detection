{
 "cells": [
  {
   "cell_type": "markdown",
   "metadata": {},
   "source": [
    "### Libraries "
   ]
  },
  {
   "cell_type": "code",
   "execution_count": 1,
   "metadata": {},
   "outputs": [],
   "source": [
    "from IPython.core.interactiveshell import InteractiveShell\n",
    "InteractiveShell.ast_node_interactivity = 'all'"
   ]
  },
  {
   "cell_type": "code",
   "execution_count": 2,
   "metadata": {},
   "outputs": [],
   "source": [
    "import warnings\n",
    "warnings.filterwarnings('ignore')"
   ]
  },
  {
   "cell_type": "code",
   "execution_count": 3,
   "metadata": {},
   "outputs": [],
   "source": [
    "import pandas as pd\n",
    "import numpy as np\n",
    "import seaborn as sns\n",
    "import matplotlib.pyplot as plt\n",
    "from sklearn.model_selection import train_test_split\n",
    "from sklearn.linear_model import LogisticRegression\n",
    "from sklearn.tree import DecisionTreeClassifier\n",
    "from sklearn.ensemble import RandomForestClassifier, AdaBoostClassifier\n",
    "from sklearn.svm import SVC\n",
    "\n",
    "from sklearn.metrics import confusion_matrix,accuracy_score,classification_report,auc,roc_curve\n",
    "from sklearn.feature_selection import RFE\n",
    "from sklearn.model_selection import GridSearchCV\n",
    "\n",
    "%matplotlib inline"
   ]
  },
  {
   "cell_type": "markdown",
   "metadata": {},
   "source": [
    "### Data Loading"
   ]
  },
  {
   "cell_type": "code",
   "execution_count": 4,
   "metadata": {},
   "outputs": [],
   "source": [
    "data1 = pd.read_csv(r\"C:\\Users\\CR GAYATHRI\\Desktop\\Python_Internship\\Fraud_Detect\\Customer_DF (1).csv\")"
   ]
  },
  {
   "cell_type": "code",
   "execution_count": 5,
   "metadata": {},
   "outputs": [
    {
     "data": {
      "text/html": [
       "<div>\n",
       "<style scoped>\n",
       "    .dataframe tbody tr th:only-of-type {\n",
       "        vertical-align: middle;\n",
       "    }\n",
       "\n",
       "    .dataframe tbody tr th {\n",
       "        vertical-align: top;\n",
       "    }\n",
       "\n",
       "    .dataframe thead th {\n",
       "        text-align: right;\n",
       "    }\n",
       "</style>\n",
       "<table border=\"1\" class=\"dataframe\">\n",
       "  <thead>\n",
       "    <tr style=\"text-align: right;\">\n",
       "      <th></th>\n",
       "      <th>Unnamed: 0</th>\n",
       "      <th>customerEmail</th>\n",
       "      <th>customerPhone</th>\n",
       "      <th>customerDevice</th>\n",
       "      <th>customerIPAddress</th>\n",
       "      <th>customerBillingAddress</th>\n",
       "      <th>No_Transactions</th>\n",
       "      <th>No_Orders</th>\n",
       "      <th>No_Payments</th>\n",
       "      <th>Fraud</th>\n",
       "    </tr>\n",
       "  </thead>\n",
       "  <tbody>\n",
       "    <tr>\n",
       "      <td>0</td>\n",
       "      <td>0</td>\n",
       "      <td>josephhoward@yahoo.com</td>\n",
       "      <td>400-108-5415</td>\n",
       "      <td>yyeiaxpltf82440jnb3v</td>\n",
       "      <td>8.129.104.40</td>\n",
       "      <td>5493 Jones Islands\\nBrownside, CA 51896</td>\n",
       "      <td>2</td>\n",
       "      <td>2</td>\n",
       "      <td>1</td>\n",
       "      <td>False</td>\n",
       "    </tr>\n",
       "    <tr>\n",
       "      <td>1</td>\n",
       "      <td>1</td>\n",
       "      <td>evansjeffery@yahoo.com</td>\n",
       "      <td>1-788-091-7546</td>\n",
       "      <td>r0jpm7xaeqqa3kr6mzum</td>\n",
       "      <td>219.173.211.202</td>\n",
       "      <td>356 Elizabeth Inlet Suite 120\\nPort Joshuabury...</td>\n",
       "      <td>3</td>\n",
       "      <td>3</td>\n",
       "      <td>7</td>\n",
       "      <td>True</td>\n",
       "    </tr>\n",
       "    <tr>\n",
       "      <td>2</td>\n",
       "      <td>2</td>\n",
       "      <td>andersonwilliam@yahoo.com</td>\n",
       "      <td>024.420.0375</td>\n",
       "      <td>4m7h5ipl1shyavt6vv2r</td>\n",
       "      <td>67b7:3db8:67e0:3bea:b9d0:90c1:2b60:b9f0</td>\n",
       "      <td>8478 Sean Ridges Apt. 441\\nDavisberg, PR 72250</td>\n",
       "      <td>5</td>\n",
       "      <td>3</td>\n",
       "      <td>2</td>\n",
       "      <td>False</td>\n",
       "    </tr>\n",
       "    <tr>\n",
       "      <td>3</td>\n",
       "      <td>3</td>\n",
       "      <td>rubenjuarez@yahoo.com</td>\n",
       "      <td>670.664.8168x94985</td>\n",
       "      <td>slovx60t0i558may4ks0</td>\n",
       "      <td>95de:8565:5a66:792c:26e0:6cfb:7d87:11af</td>\n",
       "      <td>7769 Elizabeth Bridge Apt. 343\\nNortonstad, FM...</td>\n",
       "      <td>3</td>\n",
       "      <td>3</td>\n",
       "      <td>1</td>\n",
       "      <td>False</td>\n",
       "    </tr>\n",
       "    <tr>\n",
       "      <td>4</td>\n",
       "      <td>4</td>\n",
       "      <td>uchen@malone.com</td>\n",
       "      <td>1-981-877-0870</td>\n",
       "      <td>j0pd24k5h8dl2fqu0cz4</td>\n",
       "      <td>196.89.235.192</td>\n",
       "      <td>148 Russell Lodge Apt. 445\\nPort Jenniferside,...</td>\n",
       "      <td>7</td>\n",
       "      <td>7</td>\n",
       "      <td>6</td>\n",
       "      <td>True</td>\n",
       "    </tr>\n",
       "  </tbody>\n",
       "</table>\n",
       "</div>"
      ],
      "text/plain": [
       "   Unnamed: 0              customerEmail       customerPhone  \\\n",
       "0           0     josephhoward@yahoo.com        400-108-5415   \n",
       "1           1     evansjeffery@yahoo.com      1-788-091-7546   \n",
       "2           2  andersonwilliam@yahoo.com        024.420.0375   \n",
       "3           3      rubenjuarez@yahoo.com  670.664.8168x94985   \n",
       "4           4           uchen@malone.com      1-981-877-0870   \n",
       "\n",
       "         customerDevice                        customerIPAddress  \\\n",
       "0  yyeiaxpltf82440jnb3v                             8.129.104.40   \n",
       "1  r0jpm7xaeqqa3kr6mzum                          219.173.211.202   \n",
       "2  4m7h5ipl1shyavt6vv2r  67b7:3db8:67e0:3bea:b9d0:90c1:2b60:b9f0   \n",
       "3  slovx60t0i558may4ks0  95de:8565:5a66:792c:26e0:6cfb:7d87:11af   \n",
       "4  j0pd24k5h8dl2fqu0cz4                           196.89.235.192   \n",
       "\n",
       "                              customerBillingAddress  No_Transactions  \\\n",
       "0            5493 Jones Islands\\nBrownside, CA 51896                2   \n",
       "1  356 Elizabeth Inlet Suite 120\\nPort Joshuabury...                3   \n",
       "2     8478 Sean Ridges Apt. 441\\nDavisberg, PR 72250                5   \n",
       "3  7769 Elizabeth Bridge Apt. 343\\nNortonstad, FM...                3   \n",
       "4  148 Russell Lodge Apt. 445\\nPort Jenniferside,...                7   \n",
       "\n",
       "   No_Orders  No_Payments  Fraud  \n",
       "0          2            1  False  \n",
       "1          3            7   True  \n",
       "2          3            2  False  \n",
       "3          3            1  False  \n",
       "4          7            6   True  "
      ]
     },
     "execution_count": 5,
     "metadata": {},
     "output_type": "execute_result"
    }
   ],
   "source": [
    "data1.head()"
   ]
  },
  {
   "cell_type": "code",
   "execution_count": 6,
   "metadata": {},
   "outputs": [],
   "source": [
    "data1.drop(['Unnamed: 0'], axis =1, inplace = True)"
   ]
  },
  {
   "cell_type": "code",
   "execution_count": 7,
   "metadata": {},
   "outputs": [
    {
     "data": {
      "text/html": [
       "<div>\n",
       "<style scoped>\n",
       "    .dataframe tbody tr th:only-of-type {\n",
       "        vertical-align: middle;\n",
       "    }\n",
       "\n",
       "    .dataframe tbody tr th {\n",
       "        vertical-align: top;\n",
       "    }\n",
       "\n",
       "    .dataframe thead th {\n",
       "        text-align: right;\n",
       "    }\n",
       "</style>\n",
       "<table border=\"1\" class=\"dataframe\">\n",
       "  <thead>\n",
       "    <tr style=\"text-align: right;\">\n",
       "      <th></th>\n",
       "      <th>customerEmail</th>\n",
       "      <th>customerPhone</th>\n",
       "      <th>customerDevice</th>\n",
       "      <th>customerIPAddress</th>\n",
       "      <th>customerBillingAddress</th>\n",
       "      <th>No_Transactions</th>\n",
       "      <th>No_Orders</th>\n",
       "      <th>No_Payments</th>\n",
       "      <th>Fraud</th>\n",
       "    </tr>\n",
       "  </thead>\n",
       "  <tbody>\n",
       "    <tr>\n",
       "      <td>0</td>\n",
       "      <td>josephhoward@yahoo.com</td>\n",
       "      <td>400-108-5415</td>\n",
       "      <td>yyeiaxpltf82440jnb3v</td>\n",
       "      <td>8.129.104.40</td>\n",
       "      <td>5493 Jones Islands\\nBrownside, CA 51896</td>\n",
       "      <td>2</td>\n",
       "      <td>2</td>\n",
       "      <td>1</td>\n",
       "      <td>False</td>\n",
       "    </tr>\n",
       "    <tr>\n",
       "      <td>1</td>\n",
       "      <td>evansjeffery@yahoo.com</td>\n",
       "      <td>1-788-091-7546</td>\n",
       "      <td>r0jpm7xaeqqa3kr6mzum</td>\n",
       "      <td>219.173.211.202</td>\n",
       "      <td>356 Elizabeth Inlet Suite 120\\nPort Joshuabury...</td>\n",
       "      <td>3</td>\n",
       "      <td>3</td>\n",
       "      <td>7</td>\n",
       "      <td>True</td>\n",
       "    </tr>\n",
       "    <tr>\n",
       "      <td>2</td>\n",
       "      <td>andersonwilliam@yahoo.com</td>\n",
       "      <td>024.420.0375</td>\n",
       "      <td>4m7h5ipl1shyavt6vv2r</td>\n",
       "      <td>67b7:3db8:67e0:3bea:b9d0:90c1:2b60:b9f0</td>\n",
       "      <td>8478 Sean Ridges Apt. 441\\nDavisberg, PR 72250</td>\n",
       "      <td>5</td>\n",
       "      <td>3</td>\n",
       "      <td>2</td>\n",
       "      <td>False</td>\n",
       "    </tr>\n",
       "    <tr>\n",
       "      <td>3</td>\n",
       "      <td>rubenjuarez@yahoo.com</td>\n",
       "      <td>670.664.8168x94985</td>\n",
       "      <td>slovx60t0i558may4ks0</td>\n",
       "      <td>95de:8565:5a66:792c:26e0:6cfb:7d87:11af</td>\n",
       "      <td>7769 Elizabeth Bridge Apt. 343\\nNortonstad, FM...</td>\n",
       "      <td>3</td>\n",
       "      <td>3</td>\n",
       "      <td>1</td>\n",
       "      <td>False</td>\n",
       "    </tr>\n",
       "    <tr>\n",
       "      <td>4</td>\n",
       "      <td>uchen@malone.com</td>\n",
       "      <td>1-981-877-0870</td>\n",
       "      <td>j0pd24k5h8dl2fqu0cz4</td>\n",
       "      <td>196.89.235.192</td>\n",
       "      <td>148 Russell Lodge Apt. 445\\nPort Jenniferside,...</td>\n",
       "      <td>7</td>\n",
       "      <td>7</td>\n",
       "      <td>6</td>\n",
       "      <td>True</td>\n",
       "    </tr>\n",
       "  </tbody>\n",
       "</table>\n",
       "</div>"
      ],
      "text/plain": [
       "               customerEmail       customerPhone        customerDevice  \\\n",
       "0     josephhoward@yahoo.com        400-108-5415  yyeiaxpltf82440jnb3v   \n",
       "1     evansjeffery@yahoo.com      1-788-091-7546  r0jpm7xaeqqa3kr6mzum   \n",
       "2  andersonwilliam@yahoo.com        024.420.0375  4m7h5ipl1shyavt6vv2r   \n",
       "3      rubenjuarez@yahoo.com  670.664.8168x94985  slovx60t0i558may4ks0   \n",
       "4           uchen@malone.com      1-981-877-0870  j0pd24k5h8dl2fqu0cz4   \n",
       "\n",
       "                         customerIPAddress  \\\n",
       "0                             8.129.104.40   \n",
       "1                          219.173.211.202   \n",
       "2  67b7:3db8:67e0:3bea:b9d0:90c1:2b60:b9f0   \n",
       "3  95de:8565:5a66:792c:26e0:6cfb:7d87:11af   \n",
       "4                           196.89.235.192   \n",
       "\n",
       "                              customerBillingAddress  No_Transactions  \\\n",
       "0            5493 Jones Islands\\nBrownside, CA 51896                2   \n",
       "1  356 Elizabeth Inlet Suite 120\\nPort Joshuabury...                3   \n",
       "2     8478 Sean Ridges Apt. 441\\nDavisberg, PR 72250                5   \n",
       "3  7769 Elizabeth Bridge Apt. 343\\nNortonstad, FM...                3   \n",
       "4  148 Russell Lodge Apt. 445\\nPort Jenniferside,...                7   \n",
       "\n",
       "   No_Orders  No_Payments  Fraud  \n",
       "0          2            1  False  \n",
       "1          3            7   True  \n",
       "2          3            2  False  \n",
       "3          3            1  False  \n",
       "4          7            6   True  "
      ]
     },
     "execution_count": 7,
     "metadata": {},
     "output_type": "execute_result"
    }
   ],
   "source": [
    "data1.head()"
   ]
  },
  {
   "cell_type": "code",
   "execution_count": 8,
   "metadata": {},
   "outputs": [
    {
     "data": {
      "text/plain": [
       "(168, 9)"
      ]
     },
     "execution_count": 8,
     "metadata": {},
     "output_type": "execute_result"
    }
   ],
   "source": [
    "data1.shape"
   ]
  },
  {
   "cell_type": "code",
   "execution_count": 9,
   "metadata": {},
   "outputs": [
    {
     "name": "stdout",
     "output_type": "stream",
     "text": [
      "<class 'pandas.core.frame.DataFrame'>\n",
      "RangeIndex: 168 entries, 0 to 167\n",
      "Data columns (total 9 columns):\n",
      "customerEmail             168 non-null object\n",
      "customerPhone             168 non-null object\n",
      "customerDevice            168 non-null object\n",
      "customerIPAddress         168 non-null object\n",
      "customerBillingAddress    168 non-null object\n",
      "No_Transactions           168 non-null int64\n",
      "No_Orders                 168 non-null int64\n",
      "No_Payments               168 non-null int64\n",
      "Fraud                     168 non-null bool\n",
      "dtypes: bool(1), int64(3), object(5)\n",
      "memory usage: 10.8+ KB\n"
     ]
    }
   ],
   "source": [
    "data1.info()"
   ]
  },
  {
   "cell_type": "code",
   "execution_count": 10,
   "metadata": {},
   "outputs": [
    {
     "data": {
      "text/plain": [
       "Index(['customerEmail', 'customerPhone', 'customerDevice', 'customerIPAddress',\n",
       "       'customerBillingAddress', 'No_Transactions', 'No_Orders', 'No_Payments',\n",
       "       'Fraud'],\n",
       "      dtype='object')"
      ]
     },
     "execution_count": 10,
     "metadata": {},
     "output_type": "execute_result"
    }
   ],
   "source": [
    "data1.columns"
   ]
  },
  {
   "cell_type": "code",
   "execution_count": 11,
   "metadata": {},
   "outputs": [
    {
     "data": {
      "text/html": [
       "<div>\n",
       "<style scoped>\n",
       "    .dataframe tbody tr th:only-of-type {\n",
       "        vertical-align: middle;\n",
       "    }\n",
       "\n",
       "    .dataframe tbody tr th {\n",
       "        vertical-align: top;\n",
       "    }\n",
       "\n",
       "    .dataframe thead th {\n",
       "        text-align: right;\n",
       "    }\n",
       "</style>\n",
       "<table border=\"1\" class=\"dataframe\">\n",
       "  <thead>\n",
       "    <tr style=\"text-align: right;\">\n",
       "      <th></th>\n",
       "      <th>No_Transactions</th>\n",
       "      <th>No_Orders</th>\n",
       "      <th>No_Payments</th>\n",
       "      <th>Fraud</th>\n",
       "    </tr>\n",
       "  </thead>\n",
       "  <tbody>\n",
       "    <tr>\n",
       "      <td>No_Transactions</td>\n",
       "      <td>1.000000</td>\n",
       "      <td>0.888020</td>\n",
       "      <td>0.225298</td>\n",
       "      <td>0.136451</td>\n",
       "    </tr>\n",
       "    <tr>\n",
       "      <td>No_Orders</td>\n",
       "      <td>0.888020</td>\n",
       "      <td>1.000000</td>\n",
       "      <td>0.323013</td>\n",
       "      <td>0.234528</td>\n",
       "    </tr>\n",
       "    <tr>\n",
       "      <td>No_Payments</td>\n",
       "      <td>0.225298</td>\n",
       "      <td>0.323013</td>\n",
       "      <td>1.000000</td>\n",
       "      <td>0.357312</td>\n",
       "    </tr>\n",
       "    <tr>\n",
       "      <td>Fraud</td>\n",
       "      <td>0.136451</td>\n",
       "      <td>0.234528</td>\n",
       "      <td>0.357312</td>\n",
       "      <td>1.000000</td>\n",
       "    </tr>\n",
       "  </tbody>\n",
       "</table>\n",
       "</div>"
      ],
      "text/plain": [
       "                 No_Transactions  No_Orders  No_Payments     Fraud\n",
       "No_Transactions         1.000000   0.888020     0.225298  0.136451\n",
       "No_Orders               0.888020   1.000000     0.323013  0.234528\n",
       "No_Payments             0.225298   0.323013     1.000000  0.357312\n",
       "Fraud                   0.136451   0.234528     0.357312  1.000000"
      ]
     },
     "execution_count": 11,
     "metadata": {},
     "output_type": "execute_result"
    }
   ],
   "source": [
    "# Correlation\n",
    "\n",
    "data1.corr()"
   ]
  },
  {
   "cell_type": "code",
   "execution_count": 12,
   "metadata": {},
   "outputs": [
    {
     "data": {
      "image/png": "[encoded data removed]",
      "text/plain": [
       "<Figure size 432x288 with 2 Axes>"
      ]
     },
     "metadata": {
      "needs_background": "light"
     },
     "output_type": "display_data"
    }
   ],
   "source": [
    "ax = sns.heatmap(data1.corr(), annot = True, cmap = 'Accent')\n",
    "bottom, top = ax.get_ylim()\n",
    "ax.set_ylim(bottom + 0.5, top - 0.5)\n",
    "plt.show();"
   ]
  },
  {
   "cell_type": "code",
   "execution_count": 13,
   "metadata": {},
   "outputs": [
    {
     "data": {
      "text/html": [
       "<div>\n",
       "<style scoped>\n",
       "    .dataframe tbody tr th:only-of-type {\n",
       "        vertical-align: middle;\n",
       "    }\n",
       "\n",
       "    .dataframe tbody tr th {\n",
       "        vertical-align: top;\n",
       "    }\n",
       "\n",
       "    .dataframe thead th {\n",
       "        text-align: right;\n",
       "    }\n",
       "</style>\n",
       "<table border=\"1\" class=\"dataframe\">\n",
       "  <thead>\n",
       "    <tr style=\"text-align: right;\">\n",
       "      <th></th>\n",
       "      <th>No_Transactions</th>\n",
       "      <th>No_Orders</th>\n",
       "      <th>No_Payments</th>\n",
       "    </tr>\n",
       "  </thead>\n",
       "  <tbody>\n",
       "    <tr>\n",
       "      <td>count</td>\n",
       "      <td>168.000000</td>\n",
       "      <td>168.000000</td>\n",
       "      <td>168.000000</td>\n",
       "    </tr>\n",
       "    <tr>\n",
       "      <td>mean</td>\n",
       "      <td>3.708333</td>\n",
       "      <td>2.845238</td>\n",
       "      <td>2.035714</td>\n",
       "    </tr>\n",
       "    <tr>\n",
       "      <td>std</td>\n",
       "      <td>2.801527</td>\n",
       "      <td>1.981919</td>\n",
       "      <td>2.113240</td>\n",
       "    </tr>\n",
       "    <tr>\n",
       "      <td>min</td>\n",
       "      <td>0.000000</td>\n",
       "      <td>0.000000</td>\n",
       "      <td>0.000000</td>\n",
       "    </tr>\n",
       "    <tr>\n",
       "      <td>25%</td>\n",
       "      <td>1.000000</td>\n",
       "      <td>1.000000</td>\n",
       "      <td>1.000000</td>\n",
       "    </tr>\n",
       "    <tr>\n",
       "      <td>50%</td>\n",
       "      <td>4.000000</td>\n",
       "      <td>3.000000</td>\n",
       "      <td>1.000000</td>\n",
       "    </tr>\n",
       "    <tr>\n",
       "      <td>75%</td>\n",
       "      <td>5.000000</td>\n",
       "      <td>4.000000</td>\n",
       "      <td>2.000000</td>\n",
       "    </tr>\n",
       "    <tr>\n",
       "      <td>max</td>\n",
       "      <td>15.000000</td>\n",
       "      <td>8.000000</td>\n",
       "      <td>15.000000</td>\n",
       "    </tr>\n",
       "  </tbody>\n",
       "</table>\n",
       "</div>"
      ],
      "text/plain": [
       "       No_Transactions   No_Orders  No_Payments\n",
       "count       168.000000  168.000000   168.000000\n",
       "mean          3.708333    2.845238     2.035714\n",
       "std           2.801527    1.981919     2.113240\n",
       "min           0.000000    0.000000     0.000000\n",
       "25%           1.000000    1.000000     1.000000\n",
       "50%           4.000000    3.000000     1.000000\n",
       "75%           5.000000    4.000000     2.000000\n",
       "max          15.000000    8.000000    15.000000"
      ]
     },
     "execution_count": 13,
     "metadata": {},
     "output_type": "execute_result"
    }
   ],
   "source": [
    "data1.describe()"
   ]
  },
  {
   "cell_type": "code",
   "execution_count": 14,
   "metadata": {},
   "outputs": [],
   "source": [
    "data2 = pd.read_csv(r\"C:\\Users\\CR GAYATHRI\\Desktop\\Python_Internship\\Fraud_Detect\\cust_transaction_details (1).csv\")"
   ]
  },
  {
   "cell_type": "code",
   "execution_count": 15,
   "metadata": {},
   "outputs": [
    {
     "data": {
      "text/html": [
       "<div>\n",
       "<style scoped>\n",
       "    .dataframe tbody tr th:only-of-type {\n",
       "        vertical-align: middle;\n",
       "    }\n",
       "\n",
       "    .dataframe tbody tr th {\n",
       "        vertical-align: top;\n",
       "    }\n",
       "\n",
       "    .dataframe thead th {\n",
       "        text-align: right;\n",
       "    }\n",
       "</style>\n",
       "<table border=\"1\" class=\"dataframe\">\n",
       "  <thead>\n",
       "    <tr style=\"text-align: right;\">\n",
       "      <th></th>\n",
       "      <th>Unnamed: 0</th>\n",
       "      <th>customerEmail</th>\n",
       "      <th>transactionId</th>\n",
       "      <th>orderId</th>\n",
       "      <th>paymentMethodId</th>\n",
       "      <th>paymentMethodRegistrationFailure</th>\n",
       "      <th>paymentMethodType</th>\n",
       "      <th>paymentMethodProvider</th>\n",
       "      <th>transactionAmount</th>\n",
       "      <th>transactionFailed</th>\n",
       "      <th>orderState</th>\n",
       "    </tr>\n",
       "  </thead>\n",
       "  <tbody>\n",
       "    <tr>\n",
       "      <td>0</td>\n",
       "      <td>0</td>\n",
       "      <td>josephhoward@yahoo.com</td>\n",
       "      <td>a9lcj51r</td>\n",
       "      <td>vjbdvd</td>\n",
       "      <td>wt07xm68b</td>\n",
       "      <td>1</td>\n",
       "      <td>card</td>\n",
       "      <td>JCB 16 digit</td>\n",
       "      <td>18</td>\n",
       "      <td>0</td>\n",
       "      <td>pending</td>\n",
       "    </tr>\n",
       "    <tr>\n",
       "      <td>1</td>\n",
       "      <td>1</td>\n",
       "      <td>josephhoward@yahoo.com</td>\n",
       "      <td>y4wcv03i</td>\n",
       "      <td>yp6x27</td>\n",
       "      <td>wt07xm68b</td>\n",
       "      <td>1</td>\n",
       "      <td>card</td>\n",
       "      <td>JCB 16 digit</td>\n",
       "      <td>26</td>\n",
       "      <td>0</td>\n",
       "      <td>fulfilled</td>\n",
       "    </tr>\n",
       "    <tr>\n",
       "      <td>2</td>\n",
       "      <td>2</td>\n",
       "      <td>evansjeffery@yahoo.com</td>\n",
       "      <td>5mi94sfw</td>\n",
       "      <td>nlghpa</td>\n",
       "      <td>41ug157xz</td>\n",
       "      <td>0</td>\n",
       "      <td>bitcoin</td>\n",
       "      <td>American Express</td>\n",
       "      <td>45</td>\n",
       "      <td>0</td>\n",
       "      <td>fulfilled</td>\n",
       "    </tr>\n",
       "    <tr>\n",
       "      <td>3</td>\n",
       "      <td>3</td>\n",
       "      <td>evansjeffery@yahoo.com</td>\n",
       "      <td>br8ba1nu</td>\n",
       "      <td>uw0eeb</td>\n",
       "      <td>41ug157xz</td>\n",
       "      <td>0</td>\n",
       "      <td>bitcoin</td>\n",
       "      <td>American Express</td>\n",
       "      <td>23</td>\n",
       "      <td>0</td>\n",
       "      <td>fulfilled</td>\n",
       "    </tr>\n",
       "    <tr>\n",
       "      <td>4</td>\n",
       "      <td>4</td>\n",
       "      <td>evansjeffery@yahoo.com</td>\n",
       "      <td>a33145ss</td>\n",
       "      <td>bn44oh</td>\n",
       "      <td>y3xp697jx</td>\n",
       "      <td>1</td>\n",
       "      <td>bitcoin</td>\n",
       "      <td>VISA 16 digit</td>\n",
       "      <td>43</td>\n",
       "      <td>1</td>\n",
       "      <td>fulfilled</td>\n",
       "    </tr>\n",
       "  </tbody>\n",
       "</table>\n",
       "</div>"
      ],
      "text/plain": [
       "   Unnamed: 0           customerEmail transactionId orderId paymentMethodId  \\\n",
       "0           0  josephhoward@yahoo.com      a9lcj51r  vjbdvd       wt07xm68b   \n",
       "1           1  josephhoward@yahoo.com      y4wcv03i  yp6x27       wt07xm68b   \n",
       "2           2  evansjeffery@yahoo.com      5mi94sfw  nlghpa       41ug157xz   \n",
       "3           3  evansjeffery@yahoo.com      br8ba1nu  uw0eeb       41ug157xz   \n",
       "4           4  evansjeffery@yahoo.com      a33145ss  bn44oh       y3xp697jx   \n",
       "\n",
       "   paymentMethodRegistrationFailure paymentMethodType paymentMethodProvider  \\\n",
       "0                                 1              card          JCB 16 digit   \n",
       "1                                 1              card          JCB 16 digit   \n",
       "2                                 0           bitcoin      American Express   \n",
       "3                                 0           bitcoin      American Express   \n",
       "4                                 1           bitcoin         VISA 16 digit   \n",
       "\n",
       "   transactionAmount  transactionFailed orderState  \n",
       "0                 18                  0    pending  \n",
       "1                 26                  0  fulfilled  \n",
       "2                 45                  0  fulfilled  \n",
       "3                 23                  0  fulfilled  \n",
       "4                 43                  1  fulfilled  "
      ]
     },
     "execution_count": 15,
     "metadata": {},
     "output_type": "execute_result"
    }
   ],
   "source": [
    "data2.head()"
   ]
  },
  {
   "cell_type": "code",
   "execution_count": 16,
   "metadata": {},
   "outputs": [],
   "source": [
    "data2.drop(['Unnamed: 0'], axis =1, inplace = True)"
   ]
  },
  {
   "cell_type": "code",
   "execution_count": 17,
   "metadata": {},
   "outputs": [
    {
     "data": {
      "text/html": [
       "<div>\n",
       "<style scoped>\n",
       "    .dataframe tbody tr th:only-of-type {\n",
       "        vertical-align: middle;\n",
       "    }\n",
       "\n",
       "    .dataframe tbody tr th {\n",
       "        vertical-align: top;\n",
       "    }\n",
       "\n",
       "    .dataframe thead th {\n",
       "        text-align: right;\n",
       "    }\n",
       "</style>\n",
       "<table border=\"1\" class=\"dataframe\">\n",
       "  <thead>\n",
       "    <tr style=\"text-align: right;\">\n",
       "      <th></th>\n",
       "      <th>customerEmail</th>\n",
       "      <th>transactionId</th>\n",
       "      <th>orderId</th>\n",
       "      <th>paymentMethodId</th>\n",
       "      <th>paymentMethodRegistrationFailure</th>\n",
       "      <th>paymentMethodType</th>\n",
       "      <th>paymentMethodProvider</th>\n",
       "      <th>transactionAmount</th>\n",
       "      <th>transactionFailed</th>\n",
       "      <th>orderState</th>\n",
       "    </tr>\n",
       "  </thead>\n",
       "  <tbody>\n",
       "    <tr>\n",
       "      <td>0</td>\n",
       "      <td>josephhoward@yahoo.com</td>\n",
       "      <td>a9lcj51r</td>\n",
       "      <td>vjbdvd</td>\n",
       "      <td>wt07xm68b</td>\n",
       "      <td>1</td>\n",
       "      <td>card</td>\n",
       "      <td>JCB 16 digit</td>\n",
       "      <td>18</td>\n",
       "      <td>0</td>\n",
       "      <td>pending</td>\n",
       "    </tr>\n",
       "    <tr>\n",
       "      <td>1</td>\n",
       "      <td>josephhoward@yahoo.com</td>\n",
       "      <td>y4wcv03i</td>\n",
       "      <td>yp6x27</td>\n",
       "      <td>wt07xm68b</td>\n",
       "      <td>1</td>\n",
       "      <td>card</td>\n",
       "      <td>JCB 16 digit</td>\n",
       "      <td>26</td>\n",
       "      <td>0</td>\n",
       "      <td>fulfilled</td>\n",
       "    </tr>\n",
       "    <tr>\n",
       "      <td>2</td>\n",
       "      <td>evansjeffery@yahoo.com</td>\n",
       "      <td>5mi94sfw</td>\n",
       "      <td>nlghpa</td>\n",
       "      <td>41ug157xz</td>\n",
       "      <td>0</td>\n",
       "      <td>bitcoin</td>\n",
       "      <td>American Express</td>\n",
       "      <td>45</td>\n",
       "      <td>0</td>\n",
       "      <td>fulfilled</td>\n",
       "    </tr>\n",
       "    <tr>\n",
       "      <td>3</td>\n",
       "      <td>evansjeffery@yahoo.com</td>\n",
       "      <td>br8ba1nu</td>\n",
       "      <td>uw0eeb</td>\n",
       "      <td>41ug157xz</td>\n",
       "      <td>0</td>\n",
       "      <td>bitcoin</td>\n",
       "      <td>American Express</td>\n",
       "      <td>23</td>\n",
       "      <td>0</td>\n",
       "      <td>fulfilled</td>\n",
       "    </tr>\n",
       "    <tr>\n",
       "      <td>4</td>\n",
       "      <td>evansjeffery@yahoo.com</td>\n",
       "      <td>a33145ss</td>\n",
       "      <td>bn44oh</td>\n",
       "      <td>y3xp697jx</td>\n",
       "      <td>1</td>\n",
       "      <td>bitcoin</td>\n",
       "      <td>VISA 16 digit</td>\n",
       "      <td>43</td>\n",
       "      <td>1</td>\n",
       "      <td>fulfilled</td>\n",
       "    </tr>\n",
       "  </tbody>\n",
       "</table>\n",
       "</div>"
      ],
      "text/plain": [
       "            customerEmail transactionId orderId paymentMethodId  \\\n",
       "0  josephhoward@yahoo.com      a9lcj51r  vjbdvd       wt07xm68b   \n",
       "1  josephhoward@yahoo.com      y4wcv03i  yp6x27       wt07xm68b   \n",
       "2  evansjeffery@yahoo.com      5mi94sfw  nlghpa       41ug157xz   \n",
       "3  evansjeffery@yahoo.com      br8ba1nu  uw0eeb       41ug157xz   \n",
       "4  evansjeffery@yahoo.com      a33145ss  bn44oh       y3xp697jx   \n",
       "\n",
       "   paymentMethodRegistrationFailure paymentMethodType paymentMethodProvider  \\\n",
       "0                                 1              card          JCB 16 digit   \n",
       "1                                 1              card          JCB 16 digit   \n",
       "2                                 0           bitcoin      American Express   \n",
       "3                                 0           bitcoin      American Express   \n",
       "4                                 1           bitcoin         VISA 16 digit   \n",
       "\n",
       "   transactionAmount  transactionFailed orderState  \n",
       "0                 18                  0    pending  \n",
       "1                 26                  0  fulfilled  \n",
       "2                 45                  0  fulfilled  \n",
       "3                 23                  0  fulfilled  \n",
       "4                 43                  1  fulfilled  "
      ]
     },
     "execution_count": 17,
     "metadata": {},
     "output_type": "execute_result"
    }
   ],
   "source": [
    "data2.head()"
   ]
  },
  {
   "cell_type": "code",
   "execution_count": 18,
   "metadata": {},
   "outputs": [
    {
     "data": {
      "text/plain": [
       "(623, 10)"
      ]
     },
     "execution_count": 18,
     "metadata": {},
     "output_type": "execute_result"
    }
   ],
   "source": [
    "data2.shape"
   ]
  },
  {
   "cell_type": "code",
   "execution_count": 19,
   "metadata": {},
   "outputs": [
    {
     "name": "stdout",
     "output_type": "stream",
     "text": [
      "<class 'pandas.core.frame.DataFrame'>\n",
      "RangeIndex: 623 entries, 0 to 622\n",
      "Data columns (total 10 columns):\n",
      "customerEmail                       623 non-null object\n",
      "transactionId                       623 non-null object\n",
      "orderId                             623 non-null object\n",
      "paymentMethodId                     623 non-null object\n",
      "paymentMethodRegistrationFailure    623 non-null int64\n",
      "paymentMethodType                   623 non-null object\n",
      "paymentMethodProvider               623 non-null object\n",
      "transactionAmount                   623 non-null int64\n",
      "transactionFailed                   623 non-null int64\n",
      "orderState                          623 non-null object\n",
      "dtypes: int64(3), object(7)\n",
      "memory usage: 48.8+ KB\n"
     ]
    }
   ],
   "source": [
    "data2.info()"
   ]
  },
  {
   "cell_type": "code",
   "execution_count": 20,
   "metadata": {},
   "outputs": [
    {
     "data": {
      "text/plain": [
       "Index(['customerEmail', 'transactionId', 'orderId', 'paymentMethodId',\n",
       "       'paymentMethodRegistrationFailure', 'paymentMethodType',\n",
       "       'paymentMethodProvider', 'transactionAmount', 'transactionFailed',\n",
       "       'orderState'],\n",
       "      dtype='object')"
      ]
     },
     "execution_count": 20,
     "metadata": {},
     "output_type": "execute_result"
    }
   ],
   "source": [
    "data2.columns"
   ]
  },
  {
   "cell_type": "code",
   "execution_count": 21,
   "metadata": {},
   "outputs": [
    {
     "data": {
      "text/html": [
       "<div>\n",
       "<style scoped>\n",
       "    .dataframe tbody tr th:only-of-type {\n",
       "        vertical-align: middle;\n",
       "    }\n",
       "\n",
       "    .dataframe tbody tr th {\n",
       "        vertical-align: top;\n",
       "    }\n",
       "\n",
       "    .dataframe thead th {\n",
       "        text-align: right;\n",
       "    }\n",
       "</style>\n",
       "<table border=\"1\" class=\"dataframe\">\n",
       "  <thead>\n",
       "    <tr style=\"text-align: right;\">\n",
       "      <th></th>\n",
       "      <th>paymentMethodRegistrationFailure</th>\n",
       "      <th>transactionAmount</th>\n",
       "      <th>transactionFailed</th>\n",
       "    </tr>\n",
       "  </thead>\n",
       "  <tbody>\n",
       "    <tr>\n",
       "      <td>paymentMethodRegistrationFailure</td>\n",
       "      <td>1.000000</td>\n",
       "      <td>0.041753</td>\n",
       "      <td>-0.001202</td>\n",
       "    </tr>\n",
       "    <tr>\n",
       "      <td>transactionAmount</td>\n",
       "      <td>0.041753</td>\n",
       "      <td>1.000000</td>\n",
       "      <td>0.002385</td>\n",
       "    </tr>\n",
       "    <tr>\n",
       "      <td>transactionFailed</td>\n",
       "      <td>-0.001202</td>\n",
       "      <td>0.002385</td>\n",
       "      <td>1.000000</td>\n",
       "    </tr>\n",
       "  </tbody>\n",
       "</table>\n",
       "</div>"
      ],
      "text/plain": [
       "                                  paymentMethodRegistrationFailure  \\\n",
       "paymentMethodRegistrationFailure                          1.000000   \n",
       "transactionAmount                                         0.041753   \n",
       "transactionFailed                                        -0.001202   \n",
       "\n",
       "                                  transactionAmount  transactionFailed  \n",
       "paymentMethodRegistrationFailure           0.041753          -0.001202  \n",
       "transactionAmount                          1.000000           0.002385  \n",
       "transactionFailed                          0.002385           1.000000  "
      ]
     },
     "execution_count": 21,
     "metadata": {},
     "output_type": "execute_result"
    }
   ],
   "source": [
    "data2.corr()"
   ]
  },
  {
   "cell_type": "code",
   "execution_count": 22,
   "metadata": {},
   "outputs": [
    {
     "data": {
      "image/png": "[encoded data removed]",
      "text/plain": [
       "<Figure size 432x288 with 2 Axes>"
      ]
     },
     "metadata": {
      "needs_background": "light"
     },
     "output_type": "display_data"
    }
   ],
   "source": [
    "ax = sns.heatmap(data2.corr(), annot = True, cmap = 'Accent')\n",
    "bottom, top = ax.get_ylim()\n",
    "ax.set_ylim(bottom + 0.5, top - 0.5)\n",
    "plt.show();"
   ]
  },
  {
   "cell_type": "code",
   "execution_count": 23,
   "metadata": {},
   "outputs": [
    {
     "data": {
      "text/html": [
       "<div>\n",
       "<style scoped>\n",
       "    .dataframe tbody tr th:only-of-type {\n",
       "        vertical-align: middle;\n",
       "    }\n",
       "\n",
       "    .dataframe tbody tr th {\n",
       "        vertical-align: top;\n",
       "    }\n",
       "\n",
       "    .dataframe thead th {\n",
       "        text-align: right;\n",
       "    }\n",
       "</style>\n",
       "<table border=\"1\" class=\"dataframe\">\n",
       "  <thead>\n",
       "    <tr style=\"text-align: right;\">\n",
       "      <th></th>\n",
       "      <th>paymentMethodRegistrationFailure</th>\n",
       "      <th>transactionAmount</th>\n",
       "      <th>transactionFailed</th>\n",
       "    </tr>\n",
       "  </thead>\n",
       "  <tbody>\n",
       "    <tr>\n",
       "      <td>count</td>\n",
       "      <td>623.000000</td>\n",
       "      <td>623.000000</td>\n",
       "      <td>623.000000</td>\n",
       "    </tr>\n",
       "    <tr>\n",
       "      <td>mean</td>\n",
       "      <td>0.131621</td>\n",
       "      <td>34.598716</td>\n",
       "      <td>0.269663</td>\n",
       "    </tr>\n",
       "    <tr>\n",
       "      <td>std</td>\n",
       "      <td>0.338350</td>\n",
       "      <td>20.360247</td>\n",
       "      <td>0.444141</td>\n",
       "    </tr>\n",
       "    <tr>\n",
       "      <td>min</td>\n",
       "      <td>0.000000</td>\n",
       "      <td>10.000000</td>\n",
       "      <td>0.000000</td>\n",
       "    </tr>\n",
       "    <tr>\n",
       "      <td>25%</td>\n",
       "      <td>0.000000</td>\n",
       "      <td>21.000000</td>\n",
       "      <td>0.000000</td>\n",
       "    </tr>\n",
       "    <tr>\n",
       "      <td>50%</td>\n",
       "      <td>0.000000</td>\n",
       "      <td>34.000000</td>\n",
       "      <td>0.000000</td>\n",
       "    </tr>\n",
       "    <tr>\n",
       "      <td>75%</td>\n",
       "      <td>0.000000</td>\n",
       "      <td>45.000000</td>\n",
       "      <td>1.000000</td>\n",
       "    </tr>\n",
       "    <tr>\n",
       "      <td>max</td>\n",
       "      <td>1.000000</td>\n",
       "      <td>353.000000</td>\n",
       "      <td>1.000000</td>\n",
       "    </tr>\n",
       "  </tbody>\n",
       "</table>\n",
       "</div>"
      ],
      "text/plain": [
       "       paymentMethodRegistrationFailure  transactionAmount  transactionFailed\n",
       "count                        623.000000         623.000000         623.000000\n",
       "mean                           0.131621          34.598716           0.269663\n",
       "std                            0.338350          20.360247           0.444141\n",
       "min                            0.000000          10.000000           0.000000\n",
       "25%                            0.000000          21.000000           0.000000\n",
       "50%                            0.000000          34.000000           0.000000\n",
       "75%                            0.000000          45.000000           1.000000\n",
       "max                            1.000000         353.000000           1.000000"
      ]
     },
     "execution_count": 23,
     "metadata": {},
     "output_type": "execute_result"
    }
   ],
   "source": [
    "data2.describe()"
   ]
  },
  {
   "cell_type": "markdown",
   "metadata": {},
   "source": [
    "### Checking for Null values"
   ]
  },
  {
   "cell_type": "code",
   "execution_count": 24,
   "metadata": {},
   "outputs": [
    {
     "data": {
      "text/plain": [
       "customerEmail             0\n",
       "customerPhone             0\n",
       "customerDevice            0\n",
       "customerIPAddress         0\n",
       "customerBillingAddress    0\n",
       "No_Transactions           0\n",
       "No_Orders                 0\n",
       "No_Payments               0\n",
       "Fraud                     0\n",
       "dtype: int64"
      ]
     },
     "execution_count": 24,
     "metadata": {},
     "output_type": "execute_result"
    }
   ],
   "source": [
    "data1.isnull().sum()"
   ]
  },
  {
   "cell_type": "code",
   "execution_count": 25,
   "metadata": {},
   "outputs": [
    {
     "data": {
      "text/plain": [
       "customerEmail                       0\n",
       "transactionId                       0\n",
       "orderId                             0\n",
       "paymentMethodId                     0\n",
       "paymentMethodRegistrationFailure    0\n",
       "paymentMethodType                   0\n",
       "paymentMethodProvider               0\n",
       "transactionAmount                   0\n",
       "transactionFailed                   0\n",
       "orderState                          0\n",
       "dtype: int64"
      ]
     },
     "execution_count": 25,
     "metadata": {},
     "output_type": "execute_result"
    }
   ],
   "source": [
    "data2.isnull().sum()"
   ]
  },
  {
   "cell_type": "markdown",
   "metadata": {},
   "source": [
    "### EDA"
   ]
  },
  {
   "cell_type": "code",
   "execution_count": 26,
   "metadata": {},
   "outputs": [
    {
     "data": {
      "text/plain": [
       "Index(['customerEmail', 'customerPhone', 'customerDevice', 'customerIPAddress',\n",
       "       'customerBillingAddress'],\n",
       "      dtype='object')"
      ]
     },
     "execution_count": 26,
     "metadata": {},
     "output_type": "execute_result"
    }
   ],
   "source": [
    "data1.select_dtypes(include = 'object').columns"
   ]
  },
  {
   "cell_type": "code",
   "execution_count": 27,
   "metadata": {},
   "outputs": [
    {
     "data": {
      "text/plain": [
       "Index(['customerEmail', 'transactionId', 'orderId', 'paymentMethodId',\n",
       "       'paymentMethodType', 'paymentMethodProvider', 'orderState'],\n",
       "      dtype='object')"
      ]
     },
     "execution_count": 27,
     "metadata": {},
     "output_type": "execute_result"
    }
   ],
   "source": [
    "data2.select_dtypes(include = 'object').columns"
   ]
  },
  {
   "cell_type": "code",
   "execution_count": 28,
   "metadata": {},
   "outputs": [
    {
     "data": {
      "text/plain": [
       "161"
      ]
     },
     "execution_count": 28,
     "metadata": {},
     "output_type": "execute_result"
    }
   ],
   "source": [
    "data1['customerEmail'].nunique()\n",
    "\n",
    "# shape of data1 is 168 but here unique rows are 161 so there might be repeated rows"
   ]
  },
  {
   "cell_type": "code",
   "execution_count": 29,
   "metadata": {},
   "outputs": [
    {
     "data": {
      "text/plain": [
       "136"
      ]
     },
     "execution_count": 29,
     "metadata": {},
     "output_type": "execute_result"
    }
   ],
   "source": [
    "data2['customerEmail'].nunique()"
   ]
  },
  {
   "cell_type": "code",
   "execution_count": 30,
   "metadata": {},
   "outputs": [
    {
     "data": {
      "text/plain": [
       "{'josephhoward@yahoo.com': 1,\n",
       " 'evansjeffery@yahoo.com': 1,\n",
       " 'andersonwilliam@yahoo.com': 1,\n",
       " 'rubenjuarez@yahoo.com': 1,\n",
       " 'uchen@malone.com': 1,\n",
       " 'robinsoncynthia@dunn.com': 1,\n",
       " 'samuel15@saunders-rhodes.com': 1,\n",
       " 'johnlowery@gmail.com': 8,\n",
       " 'jameslandry@rodriguez.com': 1,\n",
       " 'ubranch@rivera-parker.info': 1,\n",
       " 'bowenwilliam@yahoo.com': 1,\n",
       " 'ksummers@hotmail.com': 1,\n",
       " 'christineklein@wright-boyd.org': 1,\n",
       " 'meganwalters@chavez.com': 1,\n",
       " 'caleb94@sutton.info': 1,\n",
       " 'gonzalesjackson@gmail.com': 1,\n",
       " 'dana09@yahoo.com': 1,\n",
       " 'alec27@bell.com': 1,\n",
       " 'juliecook@hotmail.com': 1,\n",
       " 'meganberry@clark.biz': 1,\n",
       " 'psantiago@nelson.net': 1,\n",
       " 'harrisnicholas@mitchell-hancock.com': 1,\n",
       " 'davismike@hotmail.com': 1,\n",
       " 'guerramichael@hotmail.com': 1,\n",
       " 'natalie98@yahoo.com': 1,\n",
       " 'karen54@mullins.biz': 1,\n",
       " 'avaldez@gmail.com': 1,\n",
       " 'blackjoel@wright.com': 1,\n",
       " 'abigail08@yahoo.com': 1,\n",
       " 'catherine64@gmail.com': 1,\n",
       " 'romerolauren@hotmail.com': 1,\n",
       " 'qramsey@hotmail.com': 1,\n",
       " '9es7t@u6n7x': 1,\n",
       " 'ypruitt@hotmail.com': 1,\n",
       " 'zbennett@frazier.com': 1,\n",
       " 'aweaver@yahoo.com': 1,\n",
       " 'richard05@hanson-key.org': 1,\n",
       " 'paul86@hotmail.com': 1,\n",
       " 'xwang@white.com': 1,\n",
       " 'mark02@young.com': 1,\n",
       " 'smithtiffany@davis-perkins.com': 1,\n",
       " 'brandon58@conner.com': 1,\n",
       " 'knichols@gmail.com': 1,\n",
       " 'gsimpson@cox.org': 1,\n",
       " 'jamescampbell@randall-pacheco.biz': 1,\n",
       " 'johnsonjennifer@yahoo.com': 1,\n",
       " 'briana34@gmail.com': 1,\n",
       " 'jonesandrea@gray.biz': 1,\n",
       " 'kristina41@gmail.com': 1,\n",
       " 'whodges@yahoo.com': 1,\n",
       " 'nolanalec@yahoo.com': 1,\n",
       " 'spencer77@reid.com': 1,\n",
       " 'zthomas@gmail.com': 1,\n",
       " 'uguzman@yahoo.com': 1,\n",
       " 'ssmith@levine-harmon.biz': 1,\n",
       " 'feliciabrown@gmail.com': 1,\n",
       " 'dianacook@gmail.com': 1,\n",
       " 'cookbenjamin@hotmail.com': 1,\n",
       " 'joserowland@jones.com': 1,\n",
       " 'pattersonphilip@yahoo.com': 1,\n",
       " 'hj8maoy@1jcfcxs7': 1,\n",
       " 'finleybrianna@yahoo.com': 1,\n",
       " 'suzanne21@gmail.com': 1,\n",
       " 'kristaavery@lewis-baird.com': 1,\n",
       " 'dana23@lawrence.net': 1,\n",
       " 'cathy42@gibson.com': 1,\n",
       " 'michelleherrera@day.info': 1,\n",
       " 'brockmatthew@hotmail.com': 1,\n",
       " 'ijuarez@yahoo.com': 1,\n",
       " 'hughesjonathan@pena.org': 1,\n",
       " 'anthony04@gmail.com': 1,\n",
       " 'mgould@yahoo.com': 1,\n",
       " 'bakersydney@gmail.com': 1,\n",
       " 'kevinreyes@johnston.net': 1,\n",
       " 'udavis@clark.com': 1,\n",
       " 'nancymayo@brown.com': 1,\n",
       " 'warrenedward@arnold.com': 1,\n",
       " 'rbolton@hotmail.com': 1,\n",
       " 'michael57@oconnor.com': 1,\n",
       " 'jonathan99@stafford.org': 1,\n",
       " 'lleonard@turner-fleming.com': 1,\n",
       " 'whitedavid@jones-lloyd.org': 1,\n",
       " 'grace99@wright.com': 1,\n",
       " 'tayloreric@gmail.com': 1,\n",
       " 'shelby24@hotmail.com': 1,\n",
       " 'cindydelgado@gmail.com': 1,\n",
       " 'brittanydean@hotmail.com': 1,\n",
       " 'watkinscaroline@lewis-haas.com': 1,\n",
       " 'marissacollins@mckinney.com': 1,\n",
       " 'craig83@rasmussen-alvarado.com': 1,\n",
       " 'thernandez@johnson-quinn.com': 1,\n",
       " 'emilyroberts@hotmail.com': 1,\n",
       " 'ukline@spears.biz': 1,\n",
       " 'vmiller@hotmail.com': 1,\n",
       " 'david45@gmail.com': 1,\n",
       " 'fdavis@wolfe-brown.com': 1,\n",
       " 'kathleenlee@yahoo.com': 1,\n",
       " 'benjamin19@gmail.com': 1,\n",
       " 'mtrevino@gutierrez.net': 1,\n",
       " 'tmcpherson@wright.com': 1,\n",
       " 'wdelacruz@yahoo.com': 1,\n",
       " 'brooksdustin@knight.info': 1,\n",
       " 'ybrown@gmail.com': 1,\n",
       " 'vreyes@cruz.info': 1,\n",
       " '3fooiar@6eph': 1,\n",
       " 'nicolekelly@hotmail.com': 1,\n",
       " 'barronelizabeth@singh.org': 1,\n",
       " 'phillip89@gmail.com': 1,\n",
       " 'ugood@mosley.info': 1,\n",
       " 'zgraham@yahoo.com': 1,\n",
       " 'pchavez@randolph.com': 1,\n",
       " 'marywalker@gmail.com': 1,\n",
       " 'shawseth@stout-novak.com': 1,\n",
       " 'smithtonya@huffman.org': 1,\n",
       " 'hamiltonchristopher@yahoo.com': 1,\n",
       " 'amywright@wallace-johnson.com': 1,\n",
       " 'iray@rogers.com': 1,\n",
       " 'ctaylor@yahoo.com': 1,\n",
       " 'kellyfrank@atkinson.com': 1,\n",
       " 'gomezjohn@yahoo.com': 1,\n",
       " 'mullenstephanie@yahoo.com': 1,\n",
       " 'wbeltran@ramirez-shaffer.com': 1,\n",
       " 'koneal@henderson.biz': 1,\n",
       " 'xramos@hardy.net': 1,\n",
       " 'brianthomas@yahoo.com': 1,\n",
       " 'oaguirre@hotmail.com': 1,\n",
       " 'joshua00@hotmail.com': 1,\n",
       " 'veronica42@stokes.com': 1,\n",
       " 'cindydeleon@yahoo.com': 1,\n",
       " 'kyle64@stephens-ortiz.com': 1,\n",
       " 'jordanthomas@hayes-wilson.biz': 1,\n",
       " 'aliciaanthony@martin.com': 1,\n",
       " 'stephanie21@reyes-spencer.biz': 1,\n",
       " 'jenniferperry@hotmail.com': 1,\n",
       " 'bhorne@fuller-nelson.com': 1,\n",
       " 'lsanchez@hotmail.com': 1,\n",
       " 'christinemills@mcgee.com': 1,\n",
       " 'cuevasvicki@gmail.com': 1,\n",
       " 'mitchellgriffith@yahoo.com': 1,\n",
       " 'gwilcox@hotmail.com': 1,\n",
       " 'victorgarcia@gmail.com': 1,\n",
       " 'brittany60@yahoo.com': 1,\n",
       " 'fharris@hotmail.com': 1,\n",
       " 'mercedesfinley@roman.org': 1,\n",
       " 'davidwalker@hotmail.com': 1,\n",
       " 'philipnelson@dean.com': 1,\n",
       " '1yf0@jedyz63t': 1,\n",
       " 'thomasryan@conrad.net': 1,\n",
       " 'kwalsh@lopez-gomez.biz': 1,\n",
       " 'martinezlori@gmail.com': 1,\n",
       " 'stevehernandez@gmail.com': 1,\n",
       " 'daniel98@lamb.com': 1,\n",
       " 'ujackson@harris.com': 1,\n",
       " 'brittanyhicks@jones.com': 1,\n",
       " 'deborah38@yahoo.com': 1,\n",
       " 'andre74@patrick-decker.com': 1,\n",
       " 'patrickcalderon@russo.net': 1,\n",
       " 'mitchellvickie@brewer-jones.com': 1,\n",
       " 'sbrown@hughes.biz': 1,\n",
       " 'ethompson@jackson-sanders.com': 1,\n",
       " 'dawn05@tucker-brown.com': 1}"
      ]
     },
     "execution_count": 30,
     "metadata": {},
     "output_type": "execute_result"
    }
   ],
   "source": [
    "# Will find repeated rows\n",
    "\n",
    "mail_list=[]\n",
    "repeat =0\n",
    "result={}\n",
    "for i in range(0,168):\n",
    "    repeat = 0\n",
    "    for j in range(0,168):\n",
    "        if data1['customerEmail'][i] == data1['customerEmail'][j]:\n",
    "            repeat+=1\n",
    "    result.update({data1['customerEmail'][i]:repeat})\n",
    "result "
   ]
  },
  {
   "cell_type": "code",
   "execution_count": 31,
   "metadata": {},
   "outputs": [
    {
     "data": {
      "text/html": [
       "<div>\n",
       "<style scoped>\n",
       "    .dataframe tbody tr th:only-of-type {\n",
       "        vertical-align: middle;\n",
       "    }\n",
       "\n",
       "    .dataframe tbody tr th {\n",
       "        vertical-align: top;\n",
       "    }\n",
       "\n",
       "    .dataframe thead th {\n",
       "        text-align: right;\n",
       "    }\n",
       "</style>\n",
       "<table border=\"1\" class=\"dataframe\">\n",
       "  <thead>\n",
       "    <tr style=\"text-align: right;\">\n",
       "      <th></th>\n",
       "      <th>customerEmail</th>\n",
       "      <th>customerPhone</th>\n",
       "      <th>customerDevice</th>\n",
       "      <th>customerIPAddress</th>\n",
       "      <th>customerBillingAddress</th>\n",
       "      <th>No_Transactions</th>\n",
       "      <th>No_Orders</th>\n",
       "      <th>No_Payments</th>\n",
       "      <th>Fraud</th>\n",
       "    </tr>\n",
       "  </thead>\n",
       "  <tbody>\n",
       "    <tr>\n",
       "      <td>7</td>\n",
       "      <td>johnlowery@gmail.com</td>\n",
       "      <td>044-642-9860</td>\n",
       "      <td>rjb0adai34izqvys4938</td>\n",
       "      <td>212.144.68.190</td>\n",
       "      <td>484 Pamela Pass\\nLake Jessicaview, WI 12942-9074</td>\n",
       "      <td>6</td>\n",
       "      <td>5</td>\n",
       "      <td>2</td>\n",
       "      <td>True</td>\n",
       "    </tr>\n",
       "    <tr>\n",
       "      <td>40</td>\n",
       "      <td>johnlowery@gmail.com</td>\n",
       "      <td>737-377-9701x577</td>\n",
       "      <td>jz66ap43id2y35ivfqa5</td>\n",
       "      <td>6c21:ac1d:2089:68fa:abb7:8c00:525f:6588</td>\n",
       "      <td>08238 Kyle Squares Suite 893\\nMillermouth, IN ...</td>\n",
       "      <td>0</td>\n",
       "      <td>0</td>\n",
       "      <td>1</td>\n",
       "      <td>True</td>\n",
       "    </tr>\n",
       "    <tr>\n",
       "      <td>45</td>\n",
       "      <td>johnlowery@gmail.com</td>\n",
       "      <td>+16(4)9016414340</td>\n",
       "      <td>cdx178qymd6vy77nm4x3</td>\n",
       "      <td>222.79.159.140</td>\n",
       "      <td>77711 Pamela Ridge\\nNew Kayla, IL 27182</td>\n",
       "      <td>3</td>\n",
       "      <td>2</td>\n",
       "      <td>1</td>\n",
       "      <td>True</td>\n",
       "    </tr>\n",
       "    <tr>\n",
       "      <td>65</td>\n",
       "      <td>johnlowery@gmail.com</td>\n",
       "      <td>04712252182</td>\n",
       "      <td>311kdz4c1210iixltk2j</td>\n",
       "      <td>42b3:df19:86fe:abd9:dafe:f6c1:eb76:c72</td>\n",
       "      <td>11704 Andrew Villages Apt. 035\\nJamesfurt, OR ...</td>\n",
       "      <td>7</td>\n",
       "      <td>5</td>\n",
       "      <td>1</td>\n",
       "      <td>True</td>\n",
       "    </tr>\n",
       "    <tr>\n",
       "      <td>79</td>\n",
       "      <td>johnlowery@gmail.com</td>\n",
       "      <td>1-820-539-4726x993</td>\n",
       "      <td>2in0fh7lep289n8dcbdz</td>\n",
       "      <td>163.128.139.42</td>\n",
       "      <td>814 Wagner Union\\nAshleymouth, HI 35617</td>\n",
       "      <td>2</td>\n",
       "      <td>2</td>\n",
       "      <td>1</td>\n",
       "      <td>True</td>\n",
       "    </tr>\n",
       "    <tr>\n",
       "      <td>133</td>\n",
       "      <td>johnlowery@gmail.com</td>\n",
       "      <td>1-143-059-1833</td>\n",
       "      <td>tyijaify2hqadwslejyr</td>\n",
       "      <td>e4c:fb48:8ee2:9819:6ae8:8d3f:3b6a:a788</td>\n",
       "      <td>518 Wood Mews Apt. 970\\nDillonstad, NE 43317-3945</td>\n",
       "      <td>0</td>\n",
       "      <td>0</td>\n",
       "      <td>0</td>\n",
       "      <td>True</td>\n",
       "    </tr>\n",
       "    <tr>\n",
       "      <td>155</td>\n",
       "      <td>johnlowery@gmail.com</td>\n",
       "      <td>076-099-0630x72770</td>\n",
       "      <td>6qy6oa3nqutsyyxzc54c</td>\n",
       "      <td>f259:657f:f329:2fca:c06c:8b57:d6ac:2380</td>\n",
       "      <td>687 Rogers Bridge Suite 780\\nValdezburgh, IN 2...</td>\n",
       "      <td>6</td>\n",
       "      <td>5</td>\n",
       "      <td>3</td>\n",
       "      <td>True</td>\n",
       "    </tr>\n",
       "    <tr>\n",
       "      <td>165</td>\n",
       "      <td>johnlowery@gmail.com</td>\n",
       "      <td>635.676.0955x524</td>\n",
       "      <td>969zz9zdj8z4gns4sx5p</td>\n",
       "      <td>f82c:811f:8a02:e2d6:79b:fcaa:42de:570b</td>\n",
       "      <td>548 Bryant Inlet\\nVeronicaside, OK 00522</td>\n",
       "      <td>4</td>\n",
       "      <td>4</td>\n",
       "      <td>2</td>\n",
       "      <td>True</td>\n",
       "    </tr>\n",
       "  </tbody>\n",
       "</table>\n",
       "</div>"
      ],
      "text/plain": [
       "            customerEmail       customerPhone        customerDevice  \\\n",
       "7    johnlowery@gmail.com        044-642-9860  rjb0adai34izqvys4938   \n",
       "40   johnlowery@gmail.com    737-377-9701x577  jz66ap43id2y35ivfqa5   \n",
       "45   johnlowery@gmail.com    +16(4)9016414340  cdx178qymd6vy77nm4x3   \n",
       "65   johnlowery@gmail.com         04712252182  311kdz4c1210iixltk2j   \n",
       "79   johnlowery@gmail.com  1-820-539-4726x993  2in0fh7lep289n8dcbdz   \n",
       "133  johnlowery@gmail.com      1-143-059-1833  tyijaify2hqadwslejyr   \n",
       "155  johnlowery@gmail.com  076-099-0630x72770  6qy6oa3nqutsyyxzc54c   \n",
       "165  johnlowery@gmail.com    635.676.0955x524  969zz9zdj8z4gns4sx5p   \n",
       "\n",
       "                           customerIPAddress  \\\n",
       "7                             212.144.68.190   \n",
       "40   6c21:ac1d:2089:68fa:abb7:8c00:525f:6588   \n",
       "45                            222.79.159.140   \n",
       "65    42b3:df19:86fe:abd9:dafe:f6c1:eb76:c72   \n",
       "79                            163.128.139.42   \n",
       "133   e4c:fb48:8ee2:9819:6ae8:8d3f:3b6a:a788   \n",
       "155  f259:657f:f329:2fca:c06c:8b57:d6ac:2380   \n",
       "165   f82c:811f:8a02:e2d6:79b:fcaa:42de:570b   \n",
       "\n",
       "                                customerBillingAddress  No_Transactions  \\\n",
       "7     484 Pamela Pass\\nLake Jessicaview, WI 12942-9074                6   \n",
       "40   08238 Kyle Squares Suite 893\\nMillermouth, IN ...                0   \n",
       "45             77711 Pamela Ridge\\nNew Kayla, IL 27182                3   \n",
       "65   11704 Andrew Villages Apt. 035\\nJamesfurt, OR ...                7   \n",
       "79             814 Wagner Union\\nAshleymouth, HI 35617                2   \n",
       "133  518 Wood Mews Apt. 970\\nDillonstad, NE 43317-3945                0   \n",
       "155  687 Rogers Bridge Suite 780\\nValdezburgh, IN 2...                6   \n",
       "165           548 Bryant Inlet\\nVeronicaside, OK 00522                4   \n",
       "\n",
       "     No_Orders  No_Payments  Fraud  \n",
       "7            5            2   True  \n",
       "40           0            1   True  \n",
       "45           2            1   True  \n",
       "65           5            1   True  \n",
       "79           2            1   True  \n",
       "133          0            0   True  \n",
       "155          5            3   True  \n",
       "165          4            2   True  "
      ]
     },
     "execution_count": 31,
     "metadata": {},
     "output_type": "execute_result"
    }
   ],
   "source": [
    "data1[data1['customerEmail'] == 'johnlowery@gmail.com']"
   ]
  },
  {
   "cell_type": "code",
   "execution_count": 32,
   "metadata": {},
   "outputs": [
    {
     "data": {
      "text/plain": [
       "array(['card', 'bitcoin', 'apple pay', 'paypal'], dtype=object)"
      ]
     },
     "execution_count": 32,
     "metadata": {},
     "output_type": "execute_result"
    }
   ],
   "source": [
    "data2['paymentMethodType'].unique()"
   ]
  },
  {
   "cell_type": "code",
   "execution_count": 33,
   "metadata": {},
   "outputs": [
    {
     "data": {
      "image/png": "[encoded data removed]",
      "text/plain": [
       "<Figure size 432x288 with 1 Axes>"
      ]
     },
     "metadata": {
      "needs_background": "light"
     },
     "output_type": "display_data"
    }
   ],
   "source": [
    "sns.countplot(data2['paymentMethodType'],data = data2);"
   ]
  },
  {
   "cell_type": "code",
   "execution_count": 34,
   "metadata": {},
   "outputs": [
    {
     "data": {
      "image/png": "[encoded data removed]",
      "text/plain": [
       "<Figure size 432x288 with 1 Axes>"
      ]
     },
     "metadata": {
      "needs_background": "light"
     },
     "output_type": "display_data"
    }
   ],
   "source": [
    "sns.countplot(data2['orderState']);"
   ]
  },
  {
   "cell_type": "code",
   "execution_count": 35,
   "metadata": {},
   "outputs": [
    {
     "data": {
      "image/png": "[encoded data removed]",
      "text/plain": [
       "<Figure size 1152x360 with 1 Axes>"
      ]
     },
     "metadata": {
      "needs_background": "light"
     },
     "output_type": "display_data"
    }
   ],
   "source": [
    "plt.figure(figsize=(16,5))\n",
    "sns.countplot(data2['paymentMethodProvider'])\n",
    "plt.tight_layout()\n",
    "plt.show();\n",
    "\n",
    "# More payments are made by JCB VISA and Maestro"
   ]
  },
  {
   "cell_type": "code",
   "execution_count": 36,
   "metadata": {},
   "outputs": [
    {
     "data": {
      "image/png": "[encoded data removed]",
      "text/plain": [
       "<Figure size 432x288 with 1 Axes>"
      ]
     },
     "metadata": {
      "needs_background": "light"
     },
     "output_type": "display_data"
    }
   ],
   "source": [
    "sns.countplot(data1['No_Payments']);"
   ]
  },
  {
   "cell_type": "code",
   "execution_count": 37,
   "metadata": {},
   "outputs": [
    {
     "name": "stdout",
     "output_type": "stream",
     "text": [
      "25\n"
     ]
    },
    {
     "data": {
      "text/plain": [
       "['ubranch@rivera-parker.info',\n",
       " 'guerramichael@hotmail.com',\n",
       " 'zbennett@frazier.com',\n",
       " 'xwang@white.com',\n",
       " 'smithtiffany@davis-perkins.com',\n",
       " 'knichols@gmail.com',\n",
       " 'gsimpson@cox.org',\n",
       " 'johnsonjennifer@yahoo.com',\n",
       " 'whodges@yahoo.com',\n",
       " 'zthomas@gmail.com',\n",
       " 'dana23@lawrence.net',\n",
       " 'brockmatthew@hotmail.com',\n",
       " 'kevinreyes@johnston.net',\n",
       " 'michael57@oconnor.com',\n",
       " 'grace99@wright.com',\n",
       " 'ukline@spears.biz',\n",
       " '3fooiar@6eph',\n",
       " 'shawseth@stout-novak.com',\n",
       " 'kellyfrank@atkinson.com',\n",
       " 'wbeltran@ramirez-shaffer.com',\n",
       " 'xramos@hardy.net',\n",
       " 'stephanie21@reyes-spencer.biz',\n",
       " 'bhorne@fuller-nelson.com',\n",
       " 'davidwalker@hotmail.com',\n",
       " 'philipnelson@dean.com']"
      ]
     },
     "execution_count": 37,
     "metadata": {},
     "output_type": "execute_result"
    }
   ],
   "source": [
    "#  finding out the emails that are not common in the 2 datasets.\n",
    "l = []\n",
    "for i in range(0,168):\n",
    "    uncommon=0\n",
    "    for j in range(0,623):\n",
    "        if data1['customerEmail'][i]==data2['customerEmail'][j]:\n",
    "            uncommon+=1\n",
    "    if uncommon==0:\n",
    "        l.append(data1['customerEmail'][i])\n",
    "print(len(l))\n",
    "l"
   ]
  },
  {
   "cell_type": "code",
   "execution_count": 38,
   "metadata": {},
   "outputs": [
    {
     "data": {
      "text/plain": [
       "143"
      ]
     },
     "execution_count": 38,
     "metadata": {},
     "output_type": "execute_result"
    }
   ],
   "source": [
    "common =0\n",
    "for i in data1['customerEmail']:\n",
    "    for email in data2['customerEmail']:\n",
    "        if i==email:\n",
    "            common+=1\n",
    "            break\n",
    "common"
   ]
  },
  {
   "cell_type": "code",
   "execution_count": 39,
   "metadata": {},
   "outputs": [
    {
     "data": {
      "text/plain": [
       "(143, 9)"
      ]
     },
     "execution_count": 39,
     "metadata": {},
     "output_type": "execute_result"
    }
   ],
   "source": [
    "final = data1[data1['customerEmail'].isin(data2['customerEmail'])== True]\n",
    "final.shape"
   ]
  },
  {
   "cell_type": "code",
   "execution_count": 40,
   "metadata": {},
   "outputs": [],
   "source": [
    "final.reset_index(inplace = True)"
   ]
  },
  {
   "cell_type": "code",
   "execution_count": 41,
   "metadata": {},
   "outputs": [],
   "source": [
    "#Now adding Total Transaction amount column.\n",
    "\n",
    "Total_transaction_amt = []\n",
    "for i in range(0,143):\n",
    "    s=0\n",
    "    for j in range(0,623):\n",
    "        if(final['customerEmail'][i]==data2['customerEmail'][j]):\n",
    "            s += data2['transactionAmount'][j]\n",
    "    Total_transaction_amt.append(s)  "
   ]
  },
  {
   "cell_type": "code",
   "execution_count": 42,
   "metadata": {},
   "outputs": [],
   "source": [
    "final['Total_transaction_amt'] = Total_transaction_amt"
   ]
  },
  {
   "cell_type": "code",
   "execution_count": 43,
   "metadata": {},
   "outputs": [],
   "source": [
    "# Now adding No. of Transactions Failed Columns.\n",
    "\n",
    "No_transactionsFail = []\n",
    "for i in range(0,143):\n",
    "    s=0\n",
    "    for j in range(0,623):\n",
    "        if(final['customerEmail'][i]==data2['customerEmail'][j]):\n",
    "            s += data2['transactionFailed'][j]\n",
    "    No_transactionsFail.append(s)        \n",
    "final['No_transactionsFail'] = No_transactionsFail"
   ]
  },
  {
   "cell_type": "code",
   "execution_count": 44,
   "metadata": {},
   "outputs": [],
   "source": [
    "# Now adding Payment Method Registration Failures column.\n",
    "\n",
    "PaymentRegFail = []\n",
    "for i in range(0,143):\n",
    "    s=0\n",
    "    for j in range(0,623):\n",
    "        if(final['customerEmail'][i]==data2['customerEmail'][j]):\n",
    "            s += data2['paymentMethodRegistrationFailure'][j]\n",
    "    PaymentRegFail.append(s)  \n",
    "final['PaymentRegFail'] = PaymentRegFail"
   ]
  },
  {
   "cell_type": "code",
   "execution_count": 45,
   "metadata": {},
   "outputs": [],
   "source": [
    "# Now adding No. of payments from Paypal, Apple Pay, Card, Bitcoin columns.\n",
    "\n",
    "def col_make(column_name,category):\n",
    "    array = []\n",
    "    for i in range(0,143):\n",
    "        s=0\n",
    "        for j in range(0,623):\n",
    "            if(final['customerEmail'][i]==data2['customerEmail'][j]):\n",
    "                if data2[column_name][j]==category:\n",
    "                    s+=1\n",
    "        array.append(s)\n",
    "    return array "
   ]
  },
  {
   "cell_type": "code",
   "execution_count": 46,
   "metadata": {},
   "outputs": [],
   "source": [
    "PaypalPayments = col_make('paymentMethodType','paypal')\n",
    "ApplePayments = col_make('paymentMethodType','apple pay')\n",
    "BitcoinPayments = col_make('paymentMethodType','bitcoin')\n",
    "CardPayments = col_make('paymentMethodType','card')"
   ]
  },
  {
   "cell_type": "code",
   "execution_count": 47,
   "metadata": {},
   "outputs": [],
   "source": [
    "final['PaypalPayments']= PaypalPayments\n",
    "final['ApplePayments']= ApplePayments\n",
    "final['CardPayments']= CardPayments\n",
    "final['BitcoinPayments']= BitcoinPayments"
   ]
  },
  {
   "cell_type": "code",
   "execution_count": 48,
   "metadata": {},
   "outputs": [],
   "source": [
    "# Now adding Order Fullfilled, Pending, Failed columns.\n",
    "\n",
    "OrdersFulfilled = col_make('orderState','fulfilled')\n",
    "OrdersFailed =  col_make('orderState','failed')\n",
    "OrdersPending = col_make('orderState','pending')\n",
    "final['OrdersFulfilled'] = OrdersFulfilled\n",
    "final['OrdersPending'] = OrdersPending\n",
    "final['OrdersFailed'] = OrdersFailed"
   ]
  },
  {
   "cell_type": "code",
   "execution_count": 49,
   "metadata": {},
   "outputs": [],
   "source": [
    "JCB_16 = col_make('paymentMethodProvider','JCB 16 digit')\n",
    "AmericanExp = col_make('paymentMethodProvider','American Express')\n",
    "VISA_16 =  col_make('paymentMethodProvider','VISA 16 digit')\n",
    "Discover =  col_make('paymentMethodProvider','Discover')\n",
    "Voyager = col_make('paymentMethodProvider','Voyager')\n",
    "VISA_13 = col_make('paymentMethodProvider','VISA 13 digit')\n",
    "Maestro = col_make('paymentMethodProvider','Maestro')\n",
    "Mastercard = col_make('paymentMethodProvider','Mastercard')\n",
    "DC_CB =col_make('paymentMethodProvider','Diners Club / Carte Blanche')\n",
    "JCB_15= col_make('paymentMethodProvider','JCB 15 digit')"
   ]
  },
  {
   "cell_type": "code",
   "execution_count": 50,
   "metadata": {},
   "outputs": [],
   "source": [
    "final['JCB_16'] = JCB_16\n",
    "final['AmericanExp'] = AmericanExp \n",
    "final['VISA_16'] = VISA_16 \n",
    "final['Discover'] = Discover\n",
    "final['Voyager'] = Voyager \n",
    "final['VISA_13'] = VISA_13\n",
    "final['Maestro'] = Maestro \n",
    "final['Mastercard'] = Mastercard\n",
    "final['DC_CB'] = DC_CB \n",
    "final['JCB_15'] = JCB_15"
   ]
  },
  {
   "cell_type": "code",
   "execution_count": 51,
   "metadata": {},
   "outputs": [],
   "source": [
    "Trns_fail_order_fulfilled = []\n",
    "for i in range(0,143):\n",
    "    s=0\n",
    "    for j in range(0,623):\n",
    "        if(final['customerEmail'][i]==data2['customerEmail'][j]):\n",
    "            if (data2['orderState'][j]=='fulfilled') & (data2['transactionFailed'][j]==1):\n",
    "                s+=1\n",
    "    Trns_fail_order_fulfilled.append(s)\n",
    "final['Trns_fail_order_fulfilled'] = Trns_fail_order_fulfilled"
   ]
  },
  {
   "cell_type": "code",
   "execution_count": 52,
   "metadata": {},
   "outputs": [],
   "source": [
    "Duplicate_IP = []\n",
    "for i in range(0,143):\n",
    "    s=0\n",
    "    for j in range(0,143):\n",
    "        if(final['customerIPAddress'][i]==final['customerIPAddress'][j]):\n",
    "            s+=1\n",
    "    s-=1        \n",
    "    Duplicate_IP.append(s)\n",
    "final['Duplicate_IP'] = Duplicate_IP"
   ]
  },
  {
   "cell_type": "code",
   "execution_count": 53,
   "metadata": {},
   "outputs": [],
   "source": [
    "Fraud_Decoded = []\n",
    "for i in range(0,143):\n",
    "    s=0\n",
    "    if(final['Fraud'][i]==True):\n",
    "        s+=1        \n",
    "    Fraud_Decoded.append(s)\n",
    "final['Fraud_Decoded'] = Fraud_Decoded"
   ]
  },
  {
   "cell_type": "code",
   "execution_count": 54,
   "metadata": {},
   "outputs": [],
   "source": [
    "Duplicate_Address = []\n",
    "for i in range(0,143):\n",
    "    s=0\n",
    "    for j in range(0,143):\n",
    "        if(final['customerBillingAddress'][i]==final['customerBillingAddress'][j]):\n",
    "            s+=1\n",
    "    s-=1        \n",
    "    Duplicate_Address.append(s)\n",
    "final['Duplicate_Address']=Duplicate_Address"
   ]
  },
  {
   "cell_type": "code",
   "execution_count": 55,
   "metadata": {},
   "outputs": [
    {
     "data": {
      "text/plain": [
       "index                        56\n",
       "customerEmail                56\n",
       "customerPhone                56\n",
       "customerDevice               56\n",
       "customerIPAddress            56\n",
       "customerBillingAddress       56\n",
       "No_Transactions              56\n",
       "No_Orders                    56\n",
       "No_Payments                  56\n",
       "Fraud                        56\n",
       "Total_transaction_amt        56\n",
       "No_transactionsFail          56\n",
       "PaymentRegFail               56\n",
       "PaypalPayments               56\n",
       "ApplePayments                56\n",
       "CardPayments                 56\n",
       "BitcoinPayments              56\n",
       "OrdersFulfilled              56\n",
       "OrdersPending                56\n",
       "OrdersFailed                 56\n",
       "JCB_16                       56\n",
       "AmericanExp                  56\n",
       "VISA_16                      56\n",
       "Discover                     56\n",
       "Voyager                      56\n",
       "VISA_13                      56\n",
       "Maestro                      56\n",
       "Mastercard                   56\n",
       "DC_CB                        56\n",
       "JCB_15                       56\n",
       "Trns_fail_order_fulfilled    56\n",
       "Duplicate_IP                 56\n",
       "Fraud_Decoded                56\n",
       "Duplicate_Address            56\n",
       "dtype: int64"
      ]
     },
     "execution_count": 55,
     "metadata": {},
     "output_type": "execute_result"
    }
   ],
   "source": [
    "final[final['Fraud']==True].count()"
   ]
  },
  {
   "cell_type": "code",
   "execution_count": 56,
   "metadata": {},
   "outputs": [
    {
     "data": {
      "text/html": [
       "<div>\n",
       "<style scoped>\n",
       "    .dataframe tbody tr th:only-of-type {\n",
       "        vertical-align: middle;\n",
       "    }\n",
       "\n",
       "    .dataframe tbody tr th {\n",
       "        vertical-align: top;\n",
       "    }\n",
       "\n",
       "    .dataframe thead th {\n",
       "        text-align: right;\n",
       "    }\n",
       "</style>\n",
       "<table border=\"1\" class=\"dataframe\">\n",
       "  <thead>\n",
       "    <tr style=\"text-align: right;\">\n",
       "      <th></th>\n",
       "      <th>index</th>\n",
       "      <th>customerEmail</th>\n",
       "      <th>customerPhone</th>\n",
       "      <th>customerDevice</th>\n",
       "      <th>customerIPAddress</th>\n",
       "      <th>customerBillingAddress</th>\n",
       "      <th>No_Transactions</th>\n",
       "      <th>No_Orders</th>\n",
       "      <th>No_Payments</th>\n",
       "      <th>Fraud</th>\n",
       "      <th>...</th>\n",
       "      <th>Voyager</th>\n",
       "      <th>VISA_13</th>\n",
       "      <th>Maestro</th>\n",
       "      <th>Mastercard</th>\n",
       "      <th>DC_CB</th>\n",
       "      <th>JCB_15</th>\n",
       "      <th>Trns_fail_order_fulfilled</th>\n",
       "      <th>Duplicate_IP</th>\n",
       "      <th>Fraud_Decoded</th>\n",
       "      <th>Duplicate_Address</th>\n",
       "    </tr>\n",
       "  </thead>\n",
       "  <tbody>\n",
       "    <tr>\n",
       "      <td>0</td>\n",
       "      <td>0</td>\n",
       "      <td>josephhoward@yahoo.com</td>\n",
       "      <td>400-108-5415</td>\n",
       "      <td>yyeiaxpltf82440jnb3v</td>\n",
       "      <td>8.129.104.40</td>\n",
       "      <td>5493 Jones Islands\\nBrownside, CA 51896</td>\n",
       "      <td>2</td>\n",
       "      <td>2</td>\n",
       "      <td>1</td>\n",
       "      <td>False</td>\n",
       "      <td>...</td>\n",
       "      <td>0</td>\n",
       "      <td>0</td>\n",
       "      <td>0</td>\n",
       "      <td>0</td>\n",
       "      <td>0</td>\n",
       "      <td>0</td>\n",
       "      <td>0</td>\n",
       "      <td>0</td>\n",
       "      <td>0</td>\n",
       "      <td>0</td>\n",
       "    </tr>\n",
       "    <tr>\n",
       "      <td>1</td>\n",
       "      <td>1</td>\n",
       "      <td>evansjeffery@yahoo.com</td>\n",
       "      <td>1-788-091-7546</td>\n",
       "      <td>r0jpm7xaeqqa3kr6mzum</td>\n",
       "      <td>219.173.211.202</td>\n",
       "      <td>356 Elizabeth Inlet Suite 120\\nPort Joshuabury...</td>\n",
       "      <td>3</td>\n",
       "      <td>3</td>\n",
       "      <td>7</td>\n",
       "      <td>True</td>\n",
       "      <td>...</td>\n",
       "      <td>0</td>\n",
       "      <td>0</td>\n",
       "      <td>0</td>\n",
       "      <td>0</td>\n",
       "      <td>0</td>\n",
       "      <td>0</td>\n",
       "      <td>1</td>\n",
       "      <td>0</td>\n",
       "      <td>1</td>\n",
       "      <td>0</td>\n",
       "    </tr>\n",
       "    <tr>\n",
       "      <td>2</td>\n",
       "      <td>2</td>\n",
       "      <td>andersonwilliam@yahoo.com</td>\n",
       "      <td>024.420.0375</td>\n",
       "      <td>4m7h5ipl1shyavt6vv2r</td>\n",
       "      <td>67b7:3db8:67e0:3bea:b9d0:90c1:2b60:b9f0</td>\n",
       "      <td>8478 Sean Ridges Apt. 441\\nDavisberg, PR 72250</td>\n",
       "      <td>5</td>\n",
       "      <td>3</td>\n",
       "      <td>2</td>\n",
       "      <td>False</td>\n",
       "      <td>...</td>\n",
       "      <td>0</td>\n",
       "      <td>0</td>\n",
       "      <td>0</td>\n",
       "      <td>0</td>\n",
       "      <td>0</td>\n",
       "      <td>0</td>\n",
       "      <td>2</td>\n",
       "      <td>0</td>\n",
       "      <td>0</td>\n",
       "      <td>0</td>\n",
       "    </tr>\n",
       "    <tr>\n",
       "      <td>3</td>\n",
       "      <td>3</td>\n",
       "      <td>rubenjuarez@yahoo.com</td>\n",
       "      <td>670.664.8168x94985</td>\n",
       "      <td>slovx60t0i558may4ks0</td>\n",
       "      <td>95de:8565:5a66:792c:26e0:6cfb:7d87:11af</td>\n",
       "      <td>7769 Elizabeth Bridge Apt. 343\\nNortonstad, FM...</td>\n",
       "      <td>3</td>\n",
       "      <td>3</td>\n",
       "      <td>1</td>\n",
       "      <td>False</td>\n",
       "      <td>...</td>\n",
       "      <td>3</td>\n",
       "      <td>0</td>\n",
       "      <td>0</td>\n",
       "      <td>0</td>\n",
       "      <td>0</td>\n",
       "      <td>0</td>\n",
       "      <td>0</td>\n",
       "      <td>0</td>\n",
       "      <td>0</td>\n",
       "      <td>0</td>\n",
       "    </tr>\n",
       "    <tr>\n",
       "      <td>4</td>\n",
       "      <td>4</td>\n",
       "      <td>uchen@malone.com</td>\n",
       "      <td>1-981-877-0870</td>\n",
       "      <td>j0pd24k5h8dl2fqu0cz4</td>\n",
       "      <td>196.89.235.192</td>\n",
       "      <td>148 Russell Lodge Apt. 445\\nPort Jenniferside,...</td>\n",
       "      <td>7</td>\n",
       "      <td>7</td>\n",
       "      <td>6</td>\n",
       "      <td>True</td>\n",
       "      <td>...</td>\n",
       "      <td>0</td>\n",
       "      <td>1</td>\n",
       "      <td>0</td>\n",
       "      <td>0</td>\n",
       "      <td>0</td>\n",
       "      <td>0</td>\n",
       "      <td>2</td>\n",
       "      <td>0</td>\n",
       "      <td>1</td>\n",
       "      <td>0</td>\n",
       "    </tr>\n",
       "  </tbody>\n",
       "</table>\n",
       "<p>5 rows × 34 columns</p>\n",
       "</div>"
      ],
      "text/plain": [
       "   index              customerEmail       customerPhone        customerDevice  \\\n",
       "0      0     josephhoward@yahoo.com        400-108-5415  yyeiaxpltf82440jnb3v   \n",
       "1      1     evansjeffery@yahoo.com      1-788-091-7546  r0jpm7xaeqqa3kr6mzum   \n",
       "2      2  andersonwilliam@yahoo.com        024.420.0375  4m7h5ipl1shyavt6vv2r   \n",
       "3      3      rubenjuarez@yahoo.com  670.664.8168x94985  slovx60t0i558may4ks0   \n",
       "4      4           uchen@malone.com      1-981-877-0870  j0pd24k5h8dl2fqu0cz4   \n",
       "\n",
       "                         customerIPAddress  \\\n",
       "0                             8.129.104.40   \n",
       "1                          219.173.211.202   \n",
       "2  67b7:3db8:67e0:3bea:b9d0:90c1:2b60:b9f0   \n",
       "3  95de:8565:5a66:792c:26e0:6cfb:7d87:11af   \n",
       "4                           196.89.235.192   \n",
       "\n",
       "                              customerBillingAddress  No_Transactions  \\\n",
       "0            5493 Jones Islands\\nBrownside, CA 51896                2   \n",
       "1  356 Elizabeth Inlet Suite 120\\nPort Joshuabury...                3   \n",
       "2     8478 Sean Ridges Apt. 441\\nDavisberg, PR 72250                5   \n",
       "3  7769 Elizabeth Bridge Apt. 343\\nNortonstad, FM...                3   \n",
       "4  148 Russell Lodge Apt. 445\\nPort Jenniferside,...                7   \n",
       "\n",
       "   No_Orders  No_Payments  Fraud  ...  Voyager  VISA_13  Maestro  Mastercard  \\\n",
       "0          2            1  False  ...        0        0        0           0   \n",
       "1          3            7   True  ...        0        0        0           0   \n",
       "2          3            2  False  ...        0        0        0           0   \n",
       "3          3            1  False  ...        3        0        0           0   \n",
       "4          7            6   True  ...        0        1        0           0   \n",
       "\n",
       "   DC_CB  JCB_15  Trns_fail_order_fulfilled  Duplicate_IP  Fraud_Decoded  \\\n",
       "0      0       0                          0             0              0   \n",
       "1      0       0                          1             0              1   \n",
       "2      0       0                          2             0              0   \n",
       "3      0       0                          0             0              0   \n",
       "4      0       0                          2             0              1   \n",
       "\n",
       "   Duplicate_Address  \n",
       "0                  0  \n",
       "1                  0  \n",
       "2                  0  \n",
       "3                  0  \n",
       "4                  0  \n",
       "\n",
       "[5 rows x 34 columns]"
      ]
     },
     "execution_count": 56,
     "metadata": {},
     "output_type": "execute_result"
    }
   ],
   "source": [
    "final.head()"
   ]
  },
  {
   "cell_type": "code",
   "execution_count": 57,
   "metadata": {},
   "outputs": [],
   "source": [
    "final.drop('index', axis = 1, inplace = True)"
   ]
  },
  {
   "cell_type": "code",
   "execution_count": 58,
   "metadata": {},
   "outputs": [],
   "source": [
    "# Fraud column is encoded as Fraud decoded\n",
    "\n",
    "final.drop('Fraud', axis =1, inplace = True )"
   ]
  },
  {
   "cell_type": "code",
   "execution_count": 59,
   "metadata": {},
   "outputs": [
    {
     "data": {
      "text/html": [
       "<div>\n",
       "<style scoped>\n",
       "    .dataframe tbody tr th:only-of-type {\n",
       "        vertical-align: middle;\n",
       "    }\n",
       "\n",
       "    .dataframe tbody tr th {\n",
       "        vertical-align: top;\n",
       "    }\n",
       "\n",
       "    .dataframe thead th {\n",
       "        text-align: right;\n",
       "    }\n",
       "</style>\n",
       "<table border=\"1\" class=\"dataframe\">\n",
       "  <thead>\n",
       "    <tr style=\"text-align: right;\">\n",
       "      <th></th>\n",
       "      <th>customerEmail</th>\n",
       "      <th>customerPhone</th>\n",
       "      <th>customerDevice</th>\n",
       "      <th>customerIPAddress</th>\n",
       "      <th>customerBillingAddress</th>\n",
       "      <th>No_Transactions</th>\n",
       "      <th>No_Orders</th>\n",
       "      <th>No_Payments</th>\n",
       "      <th>Total_transaction_amt</th>\n",
       "      <th>No_transactionsFail</th>\n",
       "      <th>...</th>\n",
       "      <th>Voyager</th>\n",
       "      <th>VISA_13</th>\n",
       "      <th>Maestro</th>\n",
       "      <th>Mastercard</th>\n",
       "      <th>DC_CB</th>\n",
       "      <th>JCB_15</th>\n",
       "      <th>Trns_fail_order_fulfilled</th>\n",
       "      <th>Duplicate_IP</th>\n",
       "      <th>Fraud_Decoded</th>\n",
       "      <th>Duplicate_Address</th>\n",
       "    </tr>\n",
       "  </thead>\n",
       "  <tbody>\n",
       "    <tr>\n",
       "      <td>0</td>\n",
       "      <td>josephhoward@yahoo.com</td>\n",
       "      <td>400-108-5415</td>\n",
       "      <td>yyeiaxpltf82440jnb3v</td>\n",
       "      <td>8.129.104.40</td>\n",
       "      <td>5493 Jones Islands\\nBrownside, CA 51896</td>\n",
       "      <td>2</td>\n",
       "      <td>2</td>\n",
       "      <td>1</td>\n",
       "      <td>44</td>\n",
       "      <td>0</td>\n",
       "      <td>...</td>\n",
       "      <td>0</td>\n",
       "      <td>0</td>\n",
       "      <td>0</td>\n",
       "      <td>0</td>\n",
       "      <td>0</td>\n",
       "      <td>0</td>\n",
       "      <td>0</td>\n",
       "      <td>0</td>\n",
       "      <td>0</td>\n",
       "      <td>0</td>\n",
       "    </tr>\n",
       "    <tr>\n",
       "      <td>1</td>\n",
       "      <td>evansjeffery@yahoo.com</td>\n",
       "      <td>1-788-091-7546</td>\n",
       "      <td>r0jpm7xaeqqa3kr6mzum</td>\n",
       "      <td>219.173.211.202</td>\n",
       "      <td>356 Elizabeth Inlet Suite 120\\nPort Joshuabury...</td>\n",
       "      <td>3</td>\n",
       "      <td>3</td>\n",
       "      <td>7</td>\n",
       "      <td>111</td>\n",
       "      <td>1</td>\n",
       "      <td>...</td>\n",
       "      <td>0</td>\n",
       "      <td>0</td>\n",
       "      <td>0</td>\n",
       "      <td>0</td>\n",
       "      <td>0</td>\n",
       "      <td>0</td>\n",
       "      <td>1</td>\n",
       "      <td>0</td>\n",
       "      <td>1</td>\n",
       "      <td>0</td>\n",
       "    </tr>\n",
       "    <tr>\n",
       "      <td>2</td>\n",
       "      <td>andersonwilliam@yahoo.com</td>\n",
       "      <td>024.420.0375</td>\n",
       "      <td>4m7h5ipl1shyavt6vv2r</td>\n",
       "      <td>67b7:3db8:67e0:3bea:b9d0:90c1:2b60:b9f0</td>\n",
       "      <td>8478 Sean Ridges Apt. 441\\nDavisberg, PR 72250</td>\n",
       "      <td>5</td>\n",
       "      <td>3</td>\n",
       "      <td>2</td>\n",
       "      <td>131</td>\n",
       "      <td>2</td>\n",
       "      <td>...</td>\n",
       "      <td>0</td>\n",
       "      <td>0</td>\n",
       "      <td>0</td>\n",
       "      <td>0</td>\n",
       "      <td>0</td>\n",
       "      <td>0</td>\n",
       "      <td>2</td>\n",
       "      <td>0</td>\n",
       "      <td>0</td>\n",
       "      <td>0</td>\n",
       "    </tr>\n",
       "    <tr>\n",
       "      <td>3</td>\n",
       "      <td>rubenjuarez@yahoo.com</td>\n",
       "      <td>670.664.8168x94985</td>\n",
       "      <td>slovx60t0i558may4ks0</td>\n",
       "      <td>95de:8565:5a66:792c:26e0:6cfb:7d87:11af</td>\n",
       "      <td>7769 Elizabeth Bridge Apt. 343\\nNortonstad, FM...</td>\n",
       "      <td>3</td>\n",
       "      <td>3</td>\n",
       "      <td>1</td>\n",
       "      <td>85</td>\n",
       "      <td>0</td>\n",
       "      <td>...</td>\n",
       "      <td>3</td>\n",
       "      <td>0</td>\n",
       "      <td>0</td>\n",
       "      <td>0</td>\n",
       "      <td>0</td>\n",
       "      <td>0</td>\n",
       "      <td>0</td>\n",
       "      <td>0</td>\n",
       "      <td>0</td>\n",
       "      <td>0</td>\n",
       "    </tr>\n",
       "    <tr>\n",
       "      <td>4</td>\n",
       "      <td>uchen@malone.com</td>\n",
       "      <td>1-981-877-0870</td>\n",
       "      <td>j0pd24k5h8dl2fqu0cz4</td>\n",
       "      <td>196.89.235.192</td>\n",
       "      <td>148 Russell Lodge Apt. 445\\nPort Jenniferside,...</td>\n",
       "      <td>7</td>\n",
       "      <td>7</td>\n",
       "      <td>6</td>\n",
       "      <td>411</td>\n",
       "      <td>2</td>\n",
       "      <td>...</td>\n",
       "      <td>0</td>\n",
       "      <td>1</td>\n",
       "      <td>0</td>\n",
       "      <td>0</td>\n",
       "      <td>0</td>\n",
       "      <td>0</td>\n",
       "      <td>2</td>\n",
       "      <td>0</td>\n",
       "      <td>1</td>\n",
       "      <td>0</td>\n",
       "    </tr>\n",
       "  </tbody>\n",
       "</table>\n",
       "<p>5 rows × 32 columns</p>\n",
       "</div>"
      ],
      "text/plain": [
       "               customerEmail       customerPhone        customerDevice  \\\n",
       "0     josephhoward@yahoo.com        400-108-5415  yyeiaxpltf82440jnb3v   \n",
       "1     evansjeffery@yahoo.com      1-788-091-7546  r0jpm7xaeqqa3kr6mzum   \n",
       "2  andersonwilliam@yahoo.com        024.420.0375  4m7h5ipl1shyavt6vv2r   \n",
       "3      rubenjuarez@yahoo.com  670.664.8168x94985  slovx60t0i558may4ks0   \n",
       "4           uchen@malone.com      1-981-877-0870  j0pd24k5h8dl2fqu0cz4   \n",
       "\n",
       "                         customerIPAddress  \\\n",
       "0                             8.129.104.40   \n",
       "1                          219.173.211.202   \n",
       "2  67b7:3db8:67e0:3bea:b9d0:90c1:2b60:b9f0   \n",
       "3  95de:8565:5a66:792c:26e0:6cfb:7d87:11af   \n",
       "4                           196.89.235.192   \n",
       "\n",
       "                              customerBillingAddress  No_Transactions  \\\n",
       "0            5493 Jones Islands\\nBrownside, CA 51896                2   \n",
       "1  356 Elizabeth Inlet Suite 120\\nPort Joshuabury...                3   \n",
       "2     8478 Sean Ridges Apt. 441\\nDavisberg, PR 72250                5   \n",
       "3  7769 Elizabeth Bridge Apt. 343\\nNortonstad, FM...                3   \n",
       "4  148 Russell Lodge Apt. 445\\nPort Jenniferside,...                7   \n",
       "\n",
       "   No_Orders  No_Payments  Total_transaction_amt  No_transactionsFail  ...  \\\n",
       "0          2            1                     44                    0  ...   \n",
       "1          3            7                    111                    1  ...   \n",
       "2          3            2                    131                    2  ...   \n",
       "3          3            1                     85                    0  ...   \n",
       "4          7            6                    411                    2  ...   \n",
       "\n",
       "   Voyager  VISA_13  Maestro  Mastercard  DC_CB  JCB_15  \\\n",
       "0        0        0        0           0      0       0   \n",
       "1        0        0        0           0      0       0   \n",
       "2        0        0        0           0      0       0   \n",
       "3        3        0        0           0      0       0   \n",
       "4        0        1        0           0      0       0   \n",
       "\n",
       "   Trns_fail_order_fulfilled  Duplicate_IP  Fraud_Decoded  Duplicate_Address  \n",
       "0                          0             0              0                  0  \n",
       "1                          1             0              1                  0  \n",
       "2                          2             0              0                  0  \n",
       "3                          0             0              0                  0  \n",
       "4                          2             0              1                  0  \n",
       "\n",
       "[5 rows x 32 columns]"
      ]
     },
     "execution_count": 59,
     "metadata": {},
     "output_type": "execute_result"
    }
   ],
   "source": [
    "final.head()"
   ]
  },
  {
   "cell_type": "code",
   "execution_count": 60,
   "metadata": {},
   "outputs": [
    {
     "data": {
      "text/plain": [
       "Index(['customerEmail', 'customerPhone', 'customerDevice', 'customerIPAddress',\n",
       "       'customerBillingAddress', 'No_Transactions', 'No_Orders', 'No_Payments',\n",
       "       'Total_transaction_amt', 'No_transactionsFail', 'PaymentRegFail',\n",
       "       'PaypalPayments', 'ApplePayments', 'CardPayments', 'BitcoinPayments',\n",
       "       'OrdersFulfilled', 'OrdersPending', 'OrdersFailed', 'JCB_16',\n",
       "       'AmericanExp', 'VISA_16', 'Discover', 'Voyager', 'VISA_13', 'Maestro',\n",
       "       'Mastercard', 'DC_CB', 'JCB_15', 'Trns_fail_order_fulfilled',\n",
       "       'Duplicate_IP', 'Fraud_Decoded', 'Duplicate_Address'],\n",
       "      dtype='object')"
      ]
     },
     "execution_count": 60,
     "metadata": {},
     "output_type": "execute_result"
    }
   ],
   "source": [
    "final.columns"
   ]
  },
  {
   "cell_type": "code",
   "execution_count": null,
   "metadata": {},
   "outputs": [],
   "source": []
  },
  {
   "cell_type": "markdown",
   "metadata": {},
   "source": [
    "### Model Fitting and Feature Engineering"
   ]
  },
  {
   "cell_type": "code",
   "execution_count": 61,
   "metadata": {},
   "outputs": [],
   "source": [
    "# dividing into independent and dependent variables\n",
    "\n",
    "x = final[['No_Transactions',\n",
    "       'No_Orders', 'No_Payments', 'Total_transaction_amt',\n",
    "       'No_transactionsFail', 'PaymentRegFail', 'PaypalPayments',\n",
    "       'ApplePayments', 'CardPayments', 'BitcoinPayments', 'OrdersFulfilled',\n",
    "       'OrdersPending', 'OrdersFailed','Trns_fail_order_fulfilled','Duplicate_IP','Duplicate_Address','JCB_16', 'AmericanExp', 'VISA_16',\n",
    "       'Discover', 'Voyager', 'VISA_13', 'Maestro', 'Mastercard', 'DC_CB',\n",
    "       'JCB_15']]\n",
    "y = final['Fraud_Decoded']"
   ]
  },
  {
   "cell_type": "code",
   "execution_count": 62,
   "metadata": {},
   "outputs": [],
   "source": [
    "# Splitting the data into training and testing set.\n",
    "\n",
    "x_train, x_test, y_train, y_test = train_test_split(x, y, test_size=0.30, random_state=1)"
   ]
  },
  {
   "cell_type": "markdown",
   "metadata": {},
   "source": [
    "### Logistic Regression"
   ]
  },
  {
   "cell_type": "code",
   "execution_count": 63,
   "metadata": {},
   "outputs": [],
   "source": [
    "log_model = LogisticRegression()"
   ]
  },
  {
   "cell_type": "code",
   "execution_count": 64,
   "metadata": {},
   "outputs": [
    {
     "data": {
      "text/plain": [
       "LogisticRegression(C=1.0, class_weight=None, dual=False, fit_intercept=True,\n",
       "                   intercept_scaling=1, l1_ratio=None, max_iter=100,\n",
       "                   multi_class='warn', n_jobs=None, penalty='l2',\n",
       "                   random_state=None, solver='warn', tol=0.0001, verbose=0,\n",
       "                   warm_start=False)"
      ]
     },
     "execution_count": 64,
     "metadata": {},
     "output_type": "execute_result"
    }
   ],
   "source": [
    "# fit model on train data\n",
    "\n",
    "log_model.fit(x_train,y_train)"
   ]
  },
  {
   "cell_type": "code",
   "execution_count": 65,
   "metadata": {},
   "outputs": [],
   "source": [
    "# predictions on test data\n",
    "\n",
    "log_pred = log_model.predict(x_test)"
   ]
  },
  {
   "cell_type": "code",
   "execution_count": 66,
   "metadata": {},
   "outputs": [
    {
     "name": "stdout",
     "output_type": "stream",
     "text": [
      "0.7906976744186046\n"
     ]
    }
   ],
   "source": [
    "print(accuracy_score(y_test,log_pred))"
   ]
  },
  {
   "cell_type": "code",
   "execution_count": 67,
   "metadata": {},
   "outputs": [
    {
     "data": {
      "text/plain": [
       "0.7906976744186046"
      ]
     },
     "execution_count": 67,
     "metadata": {},
     "output_type": "execute_result"
    }
   ],
   "source": [
    "log_score = accuracy_score(y_test,log_pred)\n",
    "log_score"
   ]
  },
  {
   "cell_type": "code",
   "execution_count": 68,
   "metadata": {},
   "outputs": [
    {
     "data": {
      "image/png": "[encoded data removed]",
      "text/plain": [
       "<Figure size 432x288 with 2 Axes>"
      ]
     },
     "metadata": {
      "needs_background": "light"
     },
     "output_type": "display_data"
    }
   ],
   "source": [
    "a = sns.heatmap(data=confusion_matrix(y_test,log_pred),annot = True)\n",
    "bottom, top = a.get_ylim()\n",
    "a.set_ylim(bottom + 0.5, top - 0.5)\n",
    "plt.show();"
   ]
  },
  {
   "cell_type": "code",
   "execution_count": 69,
   "metadata": {},
   "outputs": [
    {
     "name": "stdout",
     "output_type": "stream",
     "text": [
      "              precision    recall  f1-score   support\n",
      "\n",
      "           0       0.74      1.00      0.85        25\n",
      "           1       1.00      0.50      0.67        18\n",
      "\n",
      "    accuracy                           0.79        43\n",
      "   macro avg       0.87      0.75      0.76        43\n",
      "weighted avg       0.85      0.79      0.77        43\n",
      "\n"
     ]
    }
   ],
   "source": [
    "print(classification_report(y_test,log_pred))"
   ]
  },
  {
   "cell_type": "code",
   "execution_count": null,
   "metadata": {},
   "outputs": [],
   "source": []
  },
  {
   "cell_type": "code",
   "execution_count": null,
   "metadata": {},
   "outputs": [],
   "source": []
  },
  {
   "cell_type": "markdown",
   "metadata": {},
   "source": [
    "#### Feature Selection"
   ]
  },
  {
   "cell_type": "code",
   "execution_count": 70,
   "metadata": {},
   "outputs": [],
   "source": [
    "x = final[['No_Transactions',\n",
    "       'No_Orders', 'No_Payments', 'Total_transaction_amt',\n",
    "       'No_transactionsFail', 'PaymentRegFail', 'PaypalPayments',\n",
    "       'ApplePayments', 'CardPayments', 'BitcoinPayments', 'OrdersFulfilled',\n",
    "       'OrdersPending', 'OrdersFailed','Trns_fail_order_fulfilled','Duplicate_IP','Duplicate_Address','JCB_16', 'AmericanExp', 'VISA_16',\n",
    "       'Discover', 'Voyager', 'VISA_13', 'Maestro', 'Mastercard', 'DC_CB',\n",
    "       'JCB_15']]\n",
    "y = final['Fraud_Decoded']"
   ]
  },
  {
   "cell_type": "code",
   "execution_count": 71,
   "metadata": {},
   "outputs": [],
   "source": [
    "model = LogisticRegression()"
   ]
  },
  {
   "cell_type": "code",
   "execution_count": 72,
   "metadata": {},
   "outputs": [],
   "source": [
    "rfe = RFE(model,n_features_to_select= 10)"
   ]
  },
  {
   "cell_type": "code",
   "execution_count": 73,
   "metadata": {},
   "outputs": [],
   "source": [
    "rfe_fit = rfe.fit(x, y)"
   ]
  },
  {
   "cell_type": "code",
   "execution_count": 74,
   "metadata": {},
   "outputs": [
    {
     "name": "stdout",
     "output_type": "stream",
     "text": [
      "Num of Features:  10\n",
      "Selected Features:  [ True  True  True False False False  True False False False  True  True\n",
      "  True False  True  True False False False False False False  True False\n",
      " False False]\n",
      "Feature Rank:  [ 1  1  1 16  5 15  1 17 12 13  1  1  1  3  1  1  8  2  7  9  6  4  1 11\n",
      " 14 10]\n"
     ]
    }
   ],
   "source": [
    "print('Num of Features: ', rfe_fit.n_features_)\n",
    "print('Selected Features: ', rfe_fit.support_)\n",
    "print('Feature Rank: ', rfe_fit.ranking_)"
   ]
  },
  {
   "cell_type": "code",
   "execution_count": 75,
   "metadata": {},
   "outputs": [
    {
     "data": {
      "text/plain": [
       "Index(['No_Transactions', 'No_Orders', 'No_Payments', 'Total_transaction_amt',\n",
       "       'No_transactionsFail', 'PaymentRegFail', 'PaypalPayments',\n",
       "       'ApplePayments', 'CardPayments', 'BitcoinPayments', 'OrdersFulfilled',\n",
       "       'OrdersPending', 'OrdersFailed', 'Trns_fail_order_fulfilled',\n",
       "       'Duplicate_IP', 'Duplicate_Address', 'JCB_16', 'AmericanExp', 'VISA_16',\n",
       "       'Discover', 'Voyager', 'VISA_13', 'Maestro', 'Mastercard', 'DC_CB',\n",
       "       'JCB_15'],\n",
       "      dtype='object')"
      ]
     },
     "execution_count": 75,
     "metadata": {},
     "output_type": "execute_result"
    }
   ],
   "source": [
    "x.columns"
   ]
  },
  {
   "cell_type": "code",
   "execution_count": 76,
   "metadata": {},
   "outputs": [
    {
     "name": "stdout",
     "output_type": "stream",
     "text": [
      "No_Transactions\n",
      "No_Orders\n",
      "No_Payments\n",
      "PaypalPayments\n",
      "OrdersFulfilled\n",
      "OrdersPending\n",
      "OrdersFailed\n",
      "Duplicate_IP\n",
      "Duplicate_Address\n",
      "Maestro\n"
     ]
    }
   ],
   "source": [
    "for i, j in enumerate(rfe_fit.ranking_):\n",
    "    if(j == 1):\n",
    "        print(x.columns[i])"
   ]
  },
  {
   "cell_type": "code",
   "execution_count": 77,
   "metadata": {},
   "outputs": [
    {
     "name": "stdout",
     "output_type": "stream",
     "text": [
      "(143, 10)\n",
      "(143,)\n",
      "----------------------------------------------------------------------------------------------------\n"
     ]
    },
    {
     "data": {
      "text/plain": [
       "(100, 10)"
      ]
     },
     "execution_count": 77,
     "metadata": {},
     "output_type": "execute_result"
    },
    {
     "data": {
      "text/plain": [
       "(43, 10)"
      ]
     },
     "execution_count": 77,
     "metadata": {},
     "output_type": "execute_result"
    },
    {
     "data": {
      "text/plain": [
       "LogisticRegression(C=1.0, class_weight=None, dual=False, fit_intercept=True,\n",
       "                   intercept_scaling=1, l1_ratio=None, max_iter=100,\n",
       "                   multi_class='warn', n_jobs=None, penalty='l2',\n",
       "                   random_state=None, solver='warn', tol=0.0001, verbose=0,\n",
       "                   warm_start=False)"
      ]
     },
     "execution_count": 77,
     "metadata": {},
     "output_type": "execute_result"
    },
    {
     "data": {
      "text/plain": [
       "array([[-0.69074114,  0.72677039,  0.34957742, -0.73416904,  0.29165831,\n",
       "         0.14154502,  0.33015557,  1.00399118,  0.99991489, -0.2926065 ]])"
      ]
     },
     "execution_count": 77,
     "metadata": {},
     "output_type": "execute_result"
    },
    {
     "data": {
      "text/plain": [
       "array([-1.66894178])"
      ]
     },
     "execution_count": 77,
     "metadata": {},
     "output_type": "execute_result"
    },
    {
     "data": {
      "text/plain": [
       "array([1, 1, 0, 0, 0, 1, 0, 0, 0, 1, 0, 0, 1, 1, 0, 1, 0, 0, 0, 1, 0, 1,\n",
       "       0, 0, 0, 0, 0, 0, 1, 0, 0, 1, 1, 0, 0, 1, 0, 0, 1, 1, 0, 0, 0, 1,\n",
       "       0, 0, 0, 1, 0, 1, 0, 1, 1, 1, 0, 0, 1, 1, 0, 0, 0, 0, 1, 0, 0, 1,\n",
       "       0, 0, 0, 0, 0, 0, 1, 0, 0, 0, 0, 1, 0, 0, 0, 0, 0, 0, 1, 0, 0, 0,\n",
       "       0, 0, 0, 0, 0, 1, 0, 0, 0, 1, 1, 1], dtype=int64)"
      ]
     },
     "execution_count": 77,
     "metadata": {},
     "output_type": "execute_result"
    },
    {
     "data": {
      "text/html": [
       "<div>\n",
       "<style scoped>\n",
       "    .dataframe tbody tr th:only-of-type {\n",
       "        vertical-align: middle;\n",
       "    }\n",
       "\n",
       "    .dataframe tbody tr th {\n",
       "        vertical-align: top;\n",
       "    }\n",
       "\n",
       "    .dataframe thead th {\n",
       "        text-align: right;\n",
       "    }\n",
       "</style>\n",
       "<table border=\"1\" class=\"dataframe\">\n",
       "  <thead>\n",
       "    <tr style=\"text-align: right;\">\n",
       "      <th></th>\n",
       "      <th>1</th>\n",
       "      <th>FinalPred</th>\n",
       "    </tr>\n",
       "  </thead>\n",
       "  <tbody>\n",
       "    <tr>\n",
       "      <td>0</td>\n",
       "      <td>0.940522</td>\n",
       "      <td>1</td>\n",
       "    </tr>\n",
       "    <tr>\n",
       "      <td>1</td>\n",
       "      <td>0.650024</td>\n",
       "      <td>1</td>\n",
       "    </tr>\n",
       "    <tr>\n",
       "      <td>2</td>\n",
       "      <td>0.333676</td>\n",
       "      <td>0</td>\n",
       "    </tr>\n",
       "    <tr>\n",
       "      <td>3</td>\n",
       "      <td>0.179292</td>\n",
       "      <td>0</td>\n",
       "    </tr>\n",
       "    <tr>\n",
       "      <td>4</td>\n",
       "      <td>0.088530</td>\n",
       "      <td>0</td>\n",
       "    </tr>\n",
       "    <tr>\n",
       "      <td>5</td>\n",
       "      <td>0.806733</td>\n",
       "      <td>1</td>\n",
       "    </tr>\n",
       "    <tr>\n",
       "      <td>6</td>\n",
       "      <td>0.435920</td>\n",
       "      <td>0</td>\n",
       "    </tr>\n",
       "    <tr>\n",
       "      <td>7</td>\n",
       "      <td>0.260922</td>\n",
       "      <td>0</td>\n",
       "    </tr>\n",
       "    <tr>\n",
       "      <td>8</td>\n",
       "      <td>0.380738</td>\n",
       "      <td>0</td>\n",
       "    </tr>\n",
       "    <tr>\n",
       "      <td>9</td>\n",
       "      <td>0.992994</td>\n",
       "      <td>1</td>\n",
       "    </tr>\n",
       "    <tr>\n",
       "      <td>10</td>\n",
       "      <td>0.497846</td>\n",
       "      <td>0</td>\n",
       "    </tr>\n",
       "    <tr>\n",
       "      <td>11</td>\n",
       "      <td>0.270581</td>\n",
       "      <td>0</td>\n",
       "    </tr>\n",
       "    <tr>\n",
       "      <td>12</td>\n",
       "      <td>0.674594</td>\n",
       "      <td>1</td>\n",
       "    </tr>\n",
       "    <tr>\n",
       "      <td>13</td>\n",
       "      <td>0.994827</td>\n",
       "      <td>1</td>\n",
       "    </tr>\n",
       "    <tr>\n",
       "      <td>14</td>\n",
       "      <td>0.416708</td>\n",
       "      <td>0</td>\n",
       "    </tr>\n",
       "    <tr>\n",
       "      <td>15</td>\n",
       "      <td>0.852693</td>\n",
       "      <td>1</td>\n",
       "    </tr>\n",
       "    <tr>\n",
       "      <td>16</td>\n",
       "      <td>0.092588</td>\n",
       "      <td>0</td>\n",
       "    </tr>\n",
       "    <tr>\n",
       "      <td>17</td>\n",
       "      <td>0.246016</td>\n",
       "      <td>0</td>\n",
       "    </tr>\n",
       "    <tr>\n",
       "      <td>18</td>\n",
       "      <td>0.213139</td>\n",
       "      <td>0</td>\n",
       "    </tr>\n",
       "    <tr>\n",
       "      <td>19</td>\n",
       "      <td>0.962252</td>\n",
       "      <td>1</td>\n",
       "    </tr>\n",
       "  </tbody>\n",
       "</table>\n",
       "</div>"
      ],
      "text/plain": [
       "           1  FinalPred\n",
       "0   0.940522          1\n",
       "1   0.650024          1\n",
       "2   0.333676          0\n",
       "3   0.179292          0\n",
       "4   0.088530          0\n",
       "5   0.806733          1\n",
       "6   0.435920          0\n",
       "7   0.260922          0\n",
       "8   0.380738          0\n",
       "9   0.992994          1\n",
       "10  0.497846          0\n",
       "11  0.270581          0\n",
       "12  0.674594          1\n",
       "13  0.994827          1\n",
       "14  0.416708          0\n",
       "15  0.852693          1\n",
       "16  0.092588          0\n",
       "17  0.246016          0\n",
       "18  0.213139          0\n",
       "19  0.962252          1"
      ]
     },
     "execution_count": 77,
     "metadata": {},
     "output_type": "execute_result"
    },
    {
     "data": {
      "text/html": [
       "<div>\n",
       "<style scoped>\n",
       "    .dataframe tbody tr th:only-of-type {\n",
       "        vertical-align: middle;\n",
       "    }\n",
       "\n",
       "    .dataframe tbody tr th {\n",
       "        vertical-align: top;\n",
       "    }\n",
       "\n",
       "    .dataframe thead th {\n",
       "        text-align: right;\n",
       "    }\n",
       "</style>\n",
       "<table border=\"1\" class=\"dataframe\">\n",
       "  <thead>\n",
       "    <tr style=\"text-align: right;\">\n",
       "      <th></th>\n",
       "      <th>1</th>\n",
       "      <th>FinalPred</th>\n",
       "      <th>Pred_70%</th>\n",
       "    </tr>\n",
       "  </thead>\n",
       "  <tbody>\n",
       "    <tr>\n",
       "      <td>0</td>\n",
       "      <td>0.940522</td>\n",
       "      <td>1</td>\n",
       "      <td>1</td>\n",
       "    </tr>\n",
       "    <tr>\n",
       "      <td>1</td>\n",
       "      <td>0.650024</td>\n",
       "      <td>1</td>\n",
       "      <td>0</td>\n",
       "    </tr>\n",
       "    <tr>\n",
       "      <td>2</td>\n",
       "      <td>0.333676</td>\n",
       "      <td>0</td>\n",
       "      <td>0</td>\n",
       "    </tr>\n",
       "    <tr>\n",
       "      <td>3</td>\n",
       "      <td>0.179292</td>\n",
       "      <td>0</td>\n",
       "      <td>0</td>\n",
       "    </tr>\n",
       "    <tr>\n",
       "      <td>4</td>\n",
       "      <td>0.088530</td>\n",
       "      <td>0</td>\n",
       "      <td>0</td>\n",
       "    </tr>\n",
       "    <tr>\n",
       "      <td>5</td>\n",
       "      <td>0.806733</td>\n",
       "      <td>1</td>\n",
       "      <td>1</td>\n",
       "    </tr>\n",
       "    <tr>\n",
       "      <td>6</td>\n",
       "      <td>0.435920</td>\n",
       "      <td>0</td>\n",
       "      <td>0</td>\n",
       "    </tr>\n",
       "    <tr>\n",
       "      <td>7</td>\n",
       "      <td>0.260922</td>\n",
       "      <td>0</td>\n",
       "      <td>0</td>\n",
       "    </tr>\n",
       "    <tr>\n",
       "      <td>8</td>\n",
       "      <td>0.380738</td>\n",
       "      <td>0</td>\n",
       "      <td>0</td>\n",
       "    </tr>\n",
       "    <tr>\n",
       "      <td>9</td>\n",
       "      <td>0.992994</td>\n",
       "      <td>1</td>\n",
       "      <td>1</td>\n",
       "    </tr>\n",
       "    <tr>\n",
       "      <td>10</td>\n",
       "      <td>0.497846</td>\n",
       "      <td>0</td>\n",
       "      <td>0</td>\n",
       "    </tr>\n",
       "    <tr>\n",
       "      <td>11</td>\n",
       "      <td>0.270581</td>\n",
       "      <td>0</td>\n",
       "      <td>0</td>\n",
       "    </tr>\n",
       "    <tr>\n",
       "      <td>12</td>\n",
       "      <td>0.674594</td>\n",
       "      <td>1</td>\n",
       "      <td>0</td>\n",
       "    </tr>\n",
       "    <tr>\n",
       "      <td>13</td>\n",
       "      <td>0.994827</td>\n",
       "      <td>1</td>\n",
       "      <td>1</td>\n",
       "    </tr>\n",
       "    <tr>\n",
       "      <td>14</td>\n",
       "      <td>0.416708</td>\n",
       "      <td>0</td>\n",
       "      <td>0</td>\n",
       "    </tr>\n",
       "    <tr>\n",
       "      <td>15</td>\n",
       "      <td>0.852693</td>\n",
       "      <td>1</td>\n",
       "      <td>1</td>\n",
       "    </tr>\n",
       "    <tr>\n",
       "      <td>16</td>\n",
       "      <td>0.092588</td>\n",
       "      <td>0</td>\n",
       "      <td>0</td>\n",
       "    </tr>\n",
       "    <tr>\n",
       "      <td>17</td>\n",
       "      <td>0.246016</td>\n",
       "      <td>0</td>\n",
       "      <td>0</td>\n",
       "    </tr>\n",
       "    <tr>\n",
       "      <td>18</td>\n",
       "      <td>0.213139</td>\n",
       "      <td>0</td>\n",
       "      <td>0</td>\n",
       "    </tr>\n",
       "    <tr>\n",
       "      <td>19</td>\n",
       "      <td>0.962252</td>\n",
       "      <td>1</td>\n",
       "      <td>1</td>\n",
       "    </tr>\n",
       "  </tbody>\n",
       "</table>\n",
       "</div>"
      ],
      "text/plain": [
       "           1  FinalPred  Pred_70%\n",
       "0   0.940522          1         1\n",
       "1   0.650024          1         0\n",
       "2   0.333676          0         0\n",
       "3   0.179292          0         0\n",
       "4   0.088530          0         0\n",
       "5   0.806733          1         1\n",
       "6   0.435920          0         0\n",
       "7   0.260922          0         0\n",
       "8   0.380738          0         0\n",
       "9   0.992994          1         1\n",
       "10  0.497846          0         0\n",
       "11  0.270581          0         0\n",
       "12  0.674594          1         0\n",
       "13  0.994827          1         1\n",
       "14  0.416708          0         0\n",
       "15  0.852693          1         1\n",
       "16  0.092588          0         0\n",
       "17  0.246016          0         0\n",
       "18  0.213139          0         0\n",
       "19  0.962252          1         1"
      ]
     },
     "execution_count": 77,
     "metadata": {},
     "output_type": "execute_result"
    },
    {
     "name": "stdout",
     "output_type": "stream",
     "text": [
      "              precision    recall  f1-score   support\n",
      "\n",
      "           0       0.79      0.92      0.85        59\n",
      "           1       0.84      0.66      0.74        41\n",
      "\n",
      "    accuracy                           0.81       100\n",
      "   macro avg       0.82      0.79      0.80       100\n",
      "weighted avg       0.81      0.81      0.81       100\n",
      "\n",
      "0.81\n",
      "----------------------------------------------------------------------------------------------------\n"
     ]
    }
   ],
   "source": [
    "# Separate IV and DV\n",
    "\n",
    "feature_cols = ['No_Transactions','No_Orders','No_Payments','PaypalPayments','OrdersFulfilled','OrdersPending',\n",
    "'OrdersFailed','Duplicate_IP','Duplicate_Address','Maestro'] # only IVs\n",
    "\n",
    "X = final[feature_cols]\n",
    "Y = final['Fraud_Decoded']\n",
    "\n",
    "# check the shape\n",
    "\n",
    "print(X.shape)\n",
    "print(Y.shape)\n",
    "print('--'*50)\n",
    "\n",
    "# Split the data\n",
    "\n",
    "from sklearn.model_selection import train_test_split\n",
    "\n",
    "X_train, X_test, Y_train, Y_test = train_test_split(X, Y, test_size = 0.3, random_state = 101)\n",
    "\n",
    "# check the shape\n",
    "\n",
    "X_train.shape; X_test.shape\n",
    "\n",
    "# Import the model function, Invoke, Fit on the data\n",
    "\n",
    "from sklearn.linear_model import LogisticRegression\n",
    "\n",
    "logmodel = LogisticRegression()\n",
    "logmodel.fit(X_train, Y_train)\n",
    "\n",
    "\n",
    "\n",
    "# Generate predictions\n",
    "\n",
    "predictions_train = logmodel.predict(X_train)\n",
    "predictions_test = logmodel.predict(X_test)\n",
    "\n",
    "logmodel.coef_\n",
    "\n",
    "logmodel.intercept_\n",
    "\n",
    "predictions_train\n",
    "\n",
    "df_pred = pd.DataFrame(logmodel.predict_proba(X_train))\n",
    "\n",
    "df_pred['FinalPred'] = predictions_train # based on: If >= 0.5 Then 1 Else 0 \n",
    "\n",
    "df_pred.head(20)[[1,'FinalPred']]\n",
    "\n",
    "df_pred['Pred_70%'] = np.where(logmodel.predict_proba(X_train)[:,1] > 0.7, 1, 0)\n",
    "\n",
    "# numpy.where(Conditions, Result if True, Result if False)\n",
    "\n",
    "df_pred.head(20)[[1,'FinalPred','Pred_70%']]\n",
    "\n",
    "\n",
    "\n",
    "##### Metrics on Train data\n",
    "\n",
    "# Check accuracy metrics \n",
    "\n",
    "\n",
    "print(classification_report(Y_train, predictions_train))\n",
    "print(accuracy_score(Y_train, predictions_train))\n",
    "print('--'*50)\n",
    "\n"
   ]
  },
  {
   "cell_type": "code",
   "execution_count": 78,
   "metadata": {},
   "outputs": [
    {
     "data": {
      "text/plain": [
       "0.81"
      ]
     },
     "execution_count": 78,
     "metadata": {},
     "output_type": "execute_result"
    }
   ],
   "source": [
    "log_score_rfe = accuracy_score(Y_train, predictions_train)\n",
    "log_score_rfe"
   ]
  },
  {
   "cell_type": "code",
   "execution_count": 79,
   "metadata": {},
   "outputs": [],
   "source": []
  },
  {
   "cell_type": "code",
   "execution_count": null,
   "metadata": {},
   "outputs": [],
   "source": []
  },
  {
   "cell_type": "markdown",
   "metadata": {},
   "source": [
    "### Decision Tree Classifier"
   ]
  },
  {
   "cell_type": "code",
   "execution_count": 79,
   "metadata": {},
   "outputs": [],
   "source": [
    "# dividing into independent and dependent variables\n",
    "\n",
    "x = final[['No_Transactions',\n",
    "       'No_Orders', 'No_Payments', 'Total_transaction_amt',\n",
    "       'No_transactionsFail', 'PaymentRegFail', 'PaypalPayments',\n",
    "       'ApplePayments', 'CardPayments', 'BitcoinPayments', 'OrdersFulfilled',\n",
    "       'OrdersPending', 'OrdersFailed','Trns_fail_order_fulfilled','Duplicate_IP','Duplicate_Address','JCB_16', 'AmericanExp', 'VISA_16',\n",
    "       'Discover', 'Voyager', 'VISA_13', 'Maestro', 'Mastercard', 'DC_CB',\n",
    "       'JCB_15']]\n",
    "y = final['Fraud_Decoded']"
   ]
  },
  {
   "cell_type": "code",
   "execution_count": 80,
   "metadata": {},
   "outputs": [],
   "source": [
    "# Splitting the data into training and testing set.\n",
    "\n",
    "x_train, x_test, y_train, y_test = train_test_split(x, y, test_size=0.30, random_state=1)"
   ]
  },
  {
   "cell_type": "code",
   "execution_count": 81,
   "metadata": {},
   "outputs": [],
   "source": [
    "DT_model = DecisionTreeClassifier()"
   ]
  },
  {
   "cell_type": "code",
   "execution_count": 82,
   "metadata": {},
   "outputs": [
    {
     "data": {
      "text/plain": [
       "DecisionTreeClassifier(class_weight=None, criterion='gini', max_depth=None,\n",
       "                       max_features=None, max_leaf_nodes=None,\n",
       "                       min_impurity_decrease=0.0, min_impurity_split=None,\n",
       "                       min_samples_leaf=1, min_samples_split=2,\n",
       "                       min_weight_fraction_leaf=0.0, presort=False,\n",
       "                       random_state=None, splitter='best')"
      ]
     },
     "execution_count": 82,
     "metadata": {},
     "output_type": "execute_result"
    }
   ],
   "source": [
    "DT_model.fit(x_train,y_train)"
   ]
  },
  {
   "cell_type": "code",
   "execution_count": 83,
   "metadata": {},
   "outputs": [],
   "source": [
    "pred = DT_model.predict(x_train)"
   ]
  },
  {
   "cell_type": "code",
   "execution_count": 84,
   "metadata": {},
   "outputs": [
    {
     "data": {
      "text/plain": [
       "1.0"
      ]
     },
     "execution_count": 84,
     "metadata": {},
     "output_type": "execute_result"
    }
   ],
   "source": [
    "accuracy_score(y_train, pred)"
   ]
  },
  {
   "cell_type": "code",
   "execution_count": 85,
   "metadata": {},
   "outputs": [],
   "source": [
    "pred_test = DT_model.predict(x_test)"
   ]
  },
  {
   "cell_type": "code",
   "execution_count": 86,
   "metadata": {},
   "outputs": [
    {
     "data": {
      "text/plain": [
       "0.6976744186046512"
      ]
     },
     "execution_count": 86,
     "metadata": {},
     "output_type": "execute_result"
    }
   ],
   "source": [
    "accuracy_score(y_test, pred_test)"
   ]
  },
  {
   "cell_type": "code",
   "execution_count": 87,
   "metadata": {},
   "outputs": [],
   "source": [
    "DT_score_train = accuracy_score(y_train, pred)"
   ]
  },
  {
   "cell_type": "code",
   "execution_count": 88,
   "metadata": {},
   "outputs": [],
   "source": [
    "DT_score_test = accuracy_score(y_test, pred_test)"
   ]
  },
  {
   "cell_type": "code",
   "execution_count": 89,
   "metadata": {},
   "outputs": [
    {
     "data": {
      "text/plain": [
       "1.0"
      ]
     },
     "execution_count": 89,
     "metadata": {},
     "output_type": "execute_result"
    },
    {
     "data": {
      "text/plain": [
       "0.6976744186046512"
      ]
     },
     "execution_count": 89,
     "metadata": {},
     "output_type": "execute_result"
    }
   ],
   "source": [
    "DT_score_train\n",
    "DT_score_test"
   ]
  },
  {
   "cell_type": "code",
   "execution_count": null,
   "metadata": {},
   "outputs": [],
   "source": []
  },
  {
   "cell_type": "code",
   "execution_count": null,
   "metadata": {},
   "outputs": [],
   "source": []
  },
  {
   "cell_type": "markdown",
   "metadata": {},
   "source": [
    "#### DTrees Feature Engineering"
   ]
  },
  {
   "cell_type": "code",
   "execution_count": 123,
   "metadata": {},
   "outputs": [],
   "source": [
    "x = final[['No_Transactions',\n",
    "       'No_Orders', 'No_Payments', 'Total_transaction_amt',\n",
    "       'No_transactionsFail', 'PaymentRegFail', 'PaypalPayments',\n",
    "       'ApplePayments', 'CardPayments', 'BitcoinPayments', 'OrdersFulfilled',\n",
    "       'OrdersPending', 'OrdersFailed','Trns_fail_order_fulfilled','Duplicate_IP','Duplicate_Address','JCB_16', 'AmericanExp', 'VISA_16',\n",
    "       'Discover', 'Voyager', 'VISA_13', 'Maestro', 'Mastercard', 'DC_CB',\n",
    "       'JCB_15']]\n",
    "y = final['Fraud_Decoded']"
   ]
  },
  {
   "cell_type": "code",
   "execution_count": 124,
   "metadata": {},
   "outputs": [],
   "source": [
    "dtree_model = DecisionTreeClassifier()\n",
    "\n",
    "rfe = RFE(dtree_model, 5)\n",
    "\n",
    "fit = rfe.fit(x, y)"
   ]
  },
  {
   "cell_type": "code",
   "execution_count": 125,
   "metadata": {},
   "outputs": [
    {
     "name": "stdout",
     "output_type": "stream",
     "text": [
      "5\n",
      "[False False  True  True  True False False False  True False  True False\n",
      " False False False False False False False False False False False False\n",
      " False False]\n",
      "[11 12  1  1  1 15 14 10  1 16  1 20 22  9  2  3  7 18  8  6  4  5 13 21\n",
      " 17 19]\n"
     ]
    }
   ],
   "source": [
    "print(fit.n_features_)\n",
    "print(fit.support_)\n",
    "print(fit.ranking_)\n"
   ]
  },
  {
   "cell_type": "code",
   "execution_count": 126,
   "metadata": {},
   "outputs": [
    {
     "name": "stdout",
     "output_type": "stream",
     "text": [
      "No_Payments\n",
      "Total_transaction_amt\n",
      "No_transactionsFail\n",
      "CardPayments\n",
      "OrdersFulfilled\n"
     ]
    }
   ],
   "source": [
    "for i, j in enumerate(fit.ranking_):\n",
    "    if(j == 1):\n",
    "        print(x.columns[i])"
   ]
  },
  {
   "cell_type": "code",
   "execution_count": 127,
   "metadata": {},
   "outputs": [
    {
     "data": {
      "text/plain": [
       "DecisionTreeClassifier(class_weight=None, criterion='gini', max_depth=None,\n",
       "                       max_features=None, max_leaf_nodes=None,\n",
       "                       min_impurity_decrease=0.0, min_impurity_split=None,\n",
       "                       min_samples_leaf=1, min_samples_split=2,\n",
       "                       min_weight_fraction_leaf=0.0, presort=False,\n",
       "                       random_state=None, splitter='best')"
      ]
     },
     "execution_count": 127,
     "metadata": {},
     "output_type": "execute_result"
    }
   ],
   "source": [
    "feature_cols = ['No_Payments','Total_transaction_amt','OrdersFulfilled','Duplicate_IP','Discover'] # only IVs\n",
    "\n",
    "X = final[feature_cols]\n",
    "Y = final['Fraud_Decoded']\n",
    "\n",
    "X_train, X_test, Y_train, Y_test = train_test_split(X, Y, test_size = 0.3, random_state = 101)\n",
    "\n",
    "D_rfe_model = DecisionTreeClassifier()\n",
    "\n",
    "D_rfe_model.fit(X_train,Y_train)\n"
   ]
  },
  {
   "cell_type": "code",
   "execution_count": 128,
   "metadata": {},
   "outputs": [],
   "source": [
    "dpredict_rfe = D_rfe_model.predict(X_test)"
   ]
  },
  {
   "cell_type": "code",
   "execution_count": 129,
   "metadata": {},
   "outputs": [
    {
     "data": {
      "text/plain": [
       "0.7209302325581395"
      ]
     },
     "execution_count": 129,
     "metadata": {},
     "output_type": "execute_result"
    }
   ],
   "source": [
    "accuracy_score(Y_test,dpredict_rfe)"
   ]
  },
  {
   "cell_type": "code",
   "execution_count": 130,
   "metadata": {},
   "outputs": [],
   "source": [
    "DT_score_rfe = accuracy_score(Y_test,dpredict_rfe)"
   ]
  },
  {
   "cell_type": "code",
   "execution_count": 131,
   "metadata": {},
   "outputs": [
    {
     "data": {
      "text/plain": [
       "0.7209302325581395"
      ]
     },
     "execution_count": 131,
     "metadata": {},
     "output_type": "execute_result"
    }
   ],
   "source": [
    "DT_score_rfe"
   ]
  },
  {
   "cell_type": "code",
   "execution_count": null,
   "metadata": {},
   "outputs": [],
   "source": []
  },
  {
   "cell_type": "code",
   "execution_count": null,
   "metadata": {},
   "outputs": [],
   "source": []
  },
  {
   "cell_type": "markdown",
   "metadata": {},
   "source": [
    "### Random Forest Classifier"
   ]
  },
  {
   "cell_type": "code",
   "execution_count": 167,
   "metadata": {},
   "outputs": [],
   "source": [
    "x = final[['No_Transactions',\n",
    "       'No_Orders', 'No_Payments', 'Total_transaction_amt',\n",
    "       'No_transactionsFail', 'PaymentRegFail', 'PaypalPayments',\n",
    "       'ApplePayments', 'CardPayments', 'BitcoinPayments', 'OrdersFulfilled',\n",
    "       'OrdersPending', 'OrdersFailed','Trns_fail_order_fulfilled','Duplicate_IP','Duplicate_Address','JCB_16', 'AmericanExp', 'VISA_16',\n",
    "       'Discover', 'Voyager', 'VISA_13', 'Maestro', 'Mastercard', 'DC_CB',\n",
    "       'JCB_15']]\n",
    "y = final['Fraud_Decoded']"
   ]
  },
  {
   "cell_type": "code",
   "execution_count": 168,
   "metadata": {},
   "outputs": [],
   "source": [
    "x_train, x_test, y_train, y_test = train_test_split(x, y, random_state = 101, test_size = 0.3)"
   ]
  },
  {
   "cell_type": "code",
   "execution_count": 169,
   "metadata": {},
   "outputs": [],
   "source": [
    "rfc = RandomForestClassifier()"
   ]
  },
  {
   "cell_type": "code",
   "execution_count": 170,
   "metadata": {},
   "outputs": [
    {
     "data": {
      "text/plain": [
       "RandomForestClassifier(bootstrap=True, class_weight=None, criterion='gini',\n",
       "                       max_depth=None, max_features='auto', max_leaf_nodes=None,\n",
       "                       min_impurity_decrease=0.0, min_impurity_split=None,\n",
       "                       min_samples_leaf=1, min_samples_split=2,\n",
       "                       min_weight_fraction_leaf=0.0, n_estimators=10,\n",
       "                       n_jobs=None, oob_score=False, random_state=None,\n",
       "                       verbose=0, warm_start=False)"
      ]
     },
     "execution_count": 170,
     "metadata": {},
     "output_type": "execute_result"
    }
   ],
   "source": [
    "rfc.fit(x_train, y_train)"
   ]
  },
  {
   "cell_type": "code",
   "execution_count": 171,
   "metadata": {},
   "outputs": [],
   "source": [
    "rfc_predict = rfc.predict(x_test)"
   ]
  },
  {
   "cell_type": "code",
   "execution_count": 172,
   "metadata": {},
   "outputs": [],
   "source": [
    "rfc_score = accuracy_score(y_test, rfc_predict)"
   ]
  },
  {
   "cell_type": "code",
   "execution_count": 173,
   "metadata": {},
   "outputs": [
    {
     "data": {
      "text/plain": [
       "0.8372093023255814"
      ]
     },
     "execution_count": 173,
     "metadata": {},
     "output_type": "execute_result"
    }
   ],
   "source": [
    "rfc_score"
   ]
  },
  {
   "cell_type": "code",
   "execution_count": null,
   "metadata": {},
   "outputs": [],
   "source": []
  },
  {
   "cell_type": "code",
   "execution_count": null,
   "metadata": {},
   "outputs": [],
   "source": []
  },
  {
   "cell_type": "markdown",
   "metadata": {},
   "source": [
    "#### Random Forest Classifier GridSearchCV"
   ]
  },
  {
   "cell_type": "code",
   "execution_count": 174,
   "metadata": {},
   "outputs": [],
   "source": [
    "pram_grid = {'n_estimators' : [20,50,100],\n",
    "            'criterion': ['gini', 'entropy'],\n",
    "            'max_features':[10,12,15,20]}"
   ]
  },
  {
   "cell_type": "code",
   "execution_count": 175,
   "metadata": {},
   "outputs": [],
   "source": [
    "mdl = RandomForestClassifier()"
   ]
  },
  {
   "cell_type": "code",
   "execution_count": 176,
   "metadata": {},
   "outputs": [],
   "source": [
    "grid_results = GridSearchCV(mdl, pram_grid, cv = 6)"
   ]
  },
  {
   "cell_type": "code",
   "execution_count": 177,
   "metadata": {},
   "outputs": [],
   "source": [
    "import time"
   ]
  },
  {
   "cell_type": "code",
   "execution_count": 178,
   "metadata": {},
   "outputs": [
    {
     "data": {
      "text/plain": [
       "GridSearchCV(cv=6, error_score='raise-deprecating',\n",
       "             estimator=RandomForestClassifier(bootstrap=True, class_weight=None,\n",
       "                                              criterion='gini', max_depth=None,\n",
       "                                              max_features='auto',\n",
       "                                              max_leaf_nodes=None,\n",
       "                                              min_impurity_decrease=0.0,\n",
       "                                              min_impurity_split=None,\n",
       "                                              min_samples_leaf=1,\n",
       "                                              min_samples_split=2,\n",
       "                                              min_weight_fraction_leaf=0.0,\n",
       "                                              n_estimators='warn', n_jobs=None,\n",
       "                                              oob_score=False,\n",
       "                                              random_state=None, verbose=0,\n",
       "                                              warm_start=False),\n",
       "             iid='warn', n_jobs=None,\n",
       "             param_grid={'criterion': ['gini', 'entropy'],\n",
       "                         'max_features': [10, 12, 15, 20],\n",
       "                         'n_estimators': [20, 50, 100]},\n",
       "             pre_dispatch='2*n_jobs', refit=True, return_train_score=False,\n",
       "             scoring=None, verbose=0)"
      ]
     },
     "execution_count": 178,
     "metadata": {},
     "output_type": "execute_result"
    },
    {
     "name": "stdout",
     "output_type": "stream",
     "text": [
      "5.778675556182861\n"
     ]
    }
   ],
   "source": [
    "import warnings\n",
    "warnings.filterwarnings('ignore')\n",
    "\n",
    "start = time.time()\n",
    "\n",
    "grid_results.fit(x_train.values, y_train.values)\n",
    "\n",
    "end = time.time()\n",
    "\n",
    "print(end-start)"
   ]
  },
  {
   "cell_type": "code",
   "execution_count": 179,
   "metadata": {},
   "outputs": [
    {
     "data": {
      "text/plain": [
       "0.79"
      ]
     },
     "execution_count": 179,
     "metadata": {},
     "output_type": "execute_result"
    }
   ],
   "source": [
    "grid_results.best_score_"
   ]
  },
  {
   "cell_type": "code",
   "execution_count": 180,
   "metadata": {},
   "outputs": [
    {
     "data": {
      "text/plain": [
       "{'criterion': 'gini', 'max_features': 10, 'n_estimators': 50}"
      ]
     },
     "execution_count": 180,
     "metadata": {},
     "output_type": "execute_result"
    }
   ],
   "source": [
    "grid_results.best_params_"
   ]
  },
  {
   "cell_type": "code",
   "execution_count": 183,
   "metadata": {},
   "outputs": [
    {
     "data": {
      "text/plain": [
       "0.79"
      ]
     },
     "execution_count": 183,
     "metadata": {},
     "output_type": "execute_result"
    }
   ],
   "source": [
    "rfc_score_grid = grid_results.best_score_\n",
    "rfc_score_grid"
   ]
  },
  {
   "cell_type": "code",
   "execution_count": null,
   "metadata": {},
   "outputs": [],
   "source": []
  },
  {
   "cell_type": "code",
   "execution_count": null,
   "metadata": {},
   "outputs": [],
   "source": []
  },
  {
   "cell_type": "markdown",
   "metadata": {},
   "source": [
    "### AdaBoostClassifier"
   ]
  },
  {
   "cell_type": "code",
   "execution_count": 245,
   "metadata": {},
   "outputs": [],
   "source": [
    "x = final[['No_Transactions',\n",
    "       'No_Orders', 'No_Payments', 'Total_transaction_amt',\n",
    "       'No_transactionsFail', 'PaymentRegFail', 'PaypalPayments',\n",
    "       'ApplePayments', 'CardPayments', 'BitcoinPayments', 'OrdersFulfilled',\n",
    "       'OrdersPending', 'OrdersFailed','Trns_fail_order_fulfilled','Duplicate_IP','Duplicate_Address','JCB_16', 'AmericanExp', 'VISA_16',\n",
    "       'Discover', 'Voyager', 'VISA_13', 'Maestro', 'Mastercard', 'DC_CB',\n",
    "       'JCB_15']]\n",
    "y = final['Fraud_Decoded']"
   ]
  },
  {
   "cell_type": "code",
   "execution_count": 246,
   "metadata": {},
   "outputs": [],
   "source": [
    "x_train, x_test, y_train, y_test = train_test_split(x, y, random_state = 11, test_size = 0.3)"
   ]
  },
  {
   "cell_type": "code",
   "execution_count": 247,
   "metadata": {},
   "outputs": [],
   "source": [
    "abc = AdaBoostClassifier()"
   ]
  },
  {
   "cell_type": "code",
   "execution_count": 248,
   "metadata": {},
   "outputs": [
    {
     "data": {
      "text/plain": [
       "AdaBoostClassifier(algorithm='SAMME.R', base_estimator=None, learning_rate=1.0,\n",
       "                   n_estimators=50, random_state=None)"
      ]
     },
     "execution_count": 248,
     "metadata": {},
     "output_type": "execute_result"
    }
   ],
   "source": [
    "abc.fit(x_train,y_train)"
   ]
  },
  {
   "cell_type": "code",
   "execution_count": 249,
   "metadata": {},
   "outputs": [],
   "source": [
    "abc_predict = abc.predict(x_test)"
   ]
  },
  {
   "cell_type": "code",
   "execution_count": 250,
   "metadata": {},
   "outputs": [],
   "source": [
    "abc_score = accuracy_score(y_test,abc_predict)"
   ]
  },
  {
   "cell_type": "code",
   "execution_count": 251,
   "metadata": {},
   "outputs": [
    {
     "data": {
      "text/plain": [
       "0.6744186046511628"
      ]
     },
     "execution_count": 251,
     "metadata": {},
     "output_type": "execute_result"
    }
   ],
   "source": [
    "abc_score"
   ]
  },
  {
   "cell_type": "code",
   "execution_count": null,
   "metadata": {},
   "outputs": [],
   "source": []
  },
  {
   "cell_type": "markdown",
   "metadata": {},
   "source": [
    "### Support Vector Machine Classifier"
   ]
  },
  {
   "cell_type": "code",
   "execution_count": 220,
   "metadata": {},
   "outputs": [],
   "source": [
    "x = final[['No_Transactions',\n",
    "       'No_Orders', 'No_Payments', 'Total_transaction_amt',\n",
    "       'No_transactionsFail', 'PaymentRegFail', 'PaypalPayments',\n",
    "       'ApplePayments', 'CardPayments', 'BitcoinPayments', 'OrdersFulfilled',\n",
    "       'OrdersPending', 'OrdersFailed','Trns_fail_order_fulfilled','Duplicate_IP','Duplicate_Address','JCB_16', 'AmericanExp', 'VISA_16',\n",
    "       'Discover', 'Voyager', 'VISA_13', 'Maestro', 'Mastercard', 'DC_CB',\n",
    "       'JCB_15']]\n",
    "y = final['Fraud_Decoded']"
   ]
  },
  {
   "cell_type": "code",
   "execution_count": 221,
   "metadata": {},
   "outputs": [],
   "source": [
    "x_train, x_test, y_train, y_test = train_test_split(x, y, random_state = 10, test_size = 0.3)"
   ]
  },
  {
   "cell_type": "code",
   "execution_count": 222,
   "metadata": {},
   "outputs": [],
   "source": [
    "svc = SVC(kernel = 'linear')"
   ]
  },
  {
   "cell_type": "code",
   "execution_count": 223,
   "metadata": {},
   "outputs": [
    {
     "data": {
      "text/plain": [
       "SVC(C=1.0, cache_size=200, class_weight=None, coef0=0.0,\n",
       "    decision_function_shape='ovr', degree=3, gamma='auto_deprecated',\n",
       "    kernel='linear', max_iter=-1, probability=False, random_state=None,\n",
       "    shrinking=True, tol=0.001, verbose=False)"
      ]
     },
     "execution_count": 223,
     "metadata": {},
     "output_type": "execute_result"
    }
   ],
   "source": [
    "svc.fit(x_train,y_train)"
   ]
  },
  {
   "cell_type": "code",
   "execution_count": 224,
   "metadata": {},
   "outputs": [],
   "source": [
    "svc_pred = svc.predict(x_test)"
   ]
  },
  {
   "cell_type": "code",
   "execution_count": 225,
   "metadata": {},
   "outputs": [
    {
     "data": {
      "text/plain": [
       "0.7209302325581395"
      ]
     },
     "execution_count": 225,
     "metadata": {},
     "output_type": "execute_result"
    }
   ],
   "source": [
    "svc_score = accuracy_score(y_test,svc_pred)\n",
    "svc_score"
   ]
  },
  {
   "cell_type": "code",
   "execution_count": null,
   "metadata": {},
   "outputs": [],
   "source": []
  },
  {
   "cell_type": "code",
   "execution_count": null,
   "metadata": {},
   "outputs": [],
   "source": []
  },
  {
   "cell_type": "markdown",
   "metadata": {},
   "source": [
    "#### SVC Gridsearchcv"
   ]
  },
  {
   "cell_type": "code",
   "execution_count": 226,
   "metadata": {},
   "outputs": [],
   "source": [
    "from sklearn.model_selection import GridSearchCV"
   ]
  },
  {
   "cell_type": "code",
   "execution_count": 227,
   "metadata": {},
   "outputs": [],
   "source": [
    "param_grid = {'C': [0.01,0.05,0.5,1], 'gamma': [0.1, 1,10,50], 'kernel': ['rbf', 'linear']}"
   ]
  },
  {
   "cell_type": "code",
   "execution_count": 228,
   "metadata": {},
   "outputs": [],
   "source": [
    "gscv = GridSearchCV(estimator=SVC(), param_grid=param_grid, scoring='accuracy', cv = 3, verbose = 2)"
   ]
  },
  {
   "cell_type": "code",
   "execution_count": 229,
   "metadata": {},
   "outputs": [
    {
     "name": "stdout",
     "output_type": "stream",
     "text": [
      "Fitting 3 folds for each of 32 candidates, totalling 96 fits\n",
      "[CV] C=0.01, gamma=0.1, kernel=rbf ...................................\n",
      "[CV] .................... C=0.01, gamma=0.1, kernel=rbf, total=   0.0s\n",
      "[CV] C=0.01, gamma=0.1, kernel=rbf ...................................\n",
      "[CV] .................... C=0.01, gamma=0.1, kernel=rbf, total=   0.0s\n",
      "[CV] C=0.01, gamma=0.1, kernel=rbf ...................................\n",
      "[CV] .................... C=0.01, gamma=0.1, kernel=rbf, total=   0.0s\n",
      "[CV] C=0.01, gamma=0.1, kernel=linear ................................\n",
      "[CV] ................. C=0.01, gamma=0.1, kernel=linear, total=   0.0s\n",
      "[CV] C=0.01, gamma=0.1, kernel=linear ................................\n",
      "[CV] ................. C=0.01, gamma=0.1, kernel=linear, total=   0.0s\n",
      "[CV] C=0.01, gamma=0.1, kernel=linear ................................\n",
      "[CV] ................. C=0.01, gamma=0.1, kernel=linear, total=   0.0s\n",
      "[CV] C=0.01, gamma=1, kernel=rbf .....................................\n",
      "[CV] ...................... C=0.01, gamma=1, kernel=rbf, total=   0.0s\n",
      "[CV] C=0.01, gamma=1, kernel=rbf .....................................\n",
      "[CV] ...................... C=0.01, gamma=1, kernel=rbf, total=   0.0s\n",
      "[CV] C=0.01, gamma=1, kernel=rbf .....................................\n",
      "[CV] ...................... C=0.01, gamma=1, kernel=rbf, total=   0.0s\n",
      "[CV] C=0.01, gamma=1, kernel=linear ..................................\n",
      "[CV] ................... C=0.01, gamma=1, kernel=linear, total=   0.0s\n",
      "[CV] C=0.01, gamma=1, kernel=linear ..................................\n",
      "[CV] ................... C=0.01, gamma=1, kernel=linear, total=   0.0s\n",
      "[CV] C=0.01, gamma=1, kernel=linear ..................................\n",
      "[CV] ................... C=0.01, gamma=1, kernel=linear, total=   0.0s\n",
      "[CV] C=0.01, gamma=10, kernel=rbf ....................................\n",
      "[CV] ..................... C=0.01, gamma=10, kernel=rbf, total=   0.0s\n",
      "[CV] C=0.01, gamma=10, kernel=rbf ....................................\n",
      "[CV] ..................... C=0.01, gamma=10, kernel=rbf, total=   0.0s\n",
      "[CV] C=0.01, gamma=10, kernel=rbf ....................................\n",
      "[CV] ..................... C=0.01, gamma=10, kernel=rbf, total=   0.0s\n",
      "[CV] C=0.01, gamma=10, kernel=linear .................................\n",
      "[CV] .................. C=0.01, gamma=10, kernel=linear, total=   0.0s\n",
      "[CV] C=0.01, gamma=10, kernel=linear .................................\n",
      "[CV] .................. C=0.01, gamma=10, kernel=linear, total=   0.0s\n",
      "[CV] C=0.01, gamma=10, kernel=linear .................................\n",
      "[CV] .................. C=0.01, gamma=10, kernel=linear, total=   0.0s\n",
      "[CV] C=0.01, gamma=50, kernel=rbf ....................................\n",
      "[CV] ..................... C=0.01, gamma=50, kernel=rbf, total=   0.0s\n",
      "[CV] C=0.01, gamma=50, kernel=rbf ....................................\n",
      "[CV] ..................... C=0.01, gamma=50, kernel=rbf, total=   0.0s\n",
      "[CV] C=0.01, gamma=50, kernel=rbf ....................................\n",
      "[CV] ..................... C=0.01, gamma=50, kernel=rbf, total=   0.0s\n",
      "[CV] C=0.01, gamma=50, kernel=linear .................................\n",
      "[CV] .................. C=0.01, gamma=50, kernel=linear, total=   0.0s\n",
      "[CV] C=0.01, gamma=50, kernel=linear .................................\n",
      "[CV] .................. C=0.01, gamma=50, kernel=linear, total=   0.0s\n",
      "[CV] C=0.01, gamma=50, kernel=linear .................................\n",
      "[CV] .................. C=0.01, gamma=50, kernel=linear, total=   0.0s\n",
      "[CV] C=0.05, gamma=0.1, kernel=rbf ...................................\n",
      "[CV] .................... C=0.05, gamma=0.1, kernel=rbf, total=   0.0s\n",
      "[CV] C=0.05, gamma=0.1, kernel=rbf ...................................\n",
      "[CV] .................... C=0.05, gamma=0.1, kernel=rbf, total=   0.0s\n",
      "[CV] C=0.05, gamma=0.1, kernel=rbf ...................................\n",
      "[CV] .................... C=0.05, gamma=0.1, kernel=rbf, total=   0.0s\n",
      "[CV] C=0.05, gamma=0.1, kernel=linear ................................\n",
      "[CV] ................. C=0.05, gamma=0.1, kernel=linear, total=   0.0s\n",
      "[CV] C=0.05, gamma=0.1, kernel=linear ................................\n",
      "[CV] ................. C=0.05, gamma=0.1, kernel=linear, total=   0.0s\n",
      "[CV] C=0.05, gamma=0.1, kernel=linear ................................\n",
      "[CV] ................. C=0.05, gamma=0.1, kernel=linear, total=   0.0s\n",
      "[CV] C=0.05, gamma=1, kernel=rbf .....................................\n",
      "[CV] ...................... C=0.05, gamma=1, kernel=rbf, total=   0.0s\n",
      "[CV] C=0.05, gamma=1, kernel=rbf .....................................\n",
      "[CV] ...................... C=0.05, gamma=1, kernel=rbf, total=   0.0s\n",
      "[CV] C=0.05, gamma=1, kernel=rbf .....................................\n",
      "[CV] ...................... C=0.05, gamma=1, kernel=rbf, total=   0.0s\n",
      "[CV] C=0.05, gamma=1, kernel=linear ..................................\n",
      "[CV] ................... C=0.05, gamma=1, kernel=linear, total=   0.0s"
     ]
    },
    {
     "name": "stderr",
     "output_type": "stream",
     "text": [
      "[Parallel(n_jobs=1)]: Using backend SequentialBackend with 1 concurrent workers.\n",
      "[Parallel(n_jobs=1)]: Done   1 out of   1 | elapsed:    0.0s remaining:    0.0s\n"
     ]
    },
    {
     "name": "stdout",
     "output_type": "stream",
     "text": [
      "\n",
      "[CV] C=0.05, gamma=1, kernel=linear ..................................\n",
      "[CV] ................... C=0.05, gamma=1, kernel=linear, total=   0.0s\n",
      "[CV] C=0.05, gamma=1, kernel=linear ..................................\n",
      "[CV] ................... C=0.05, gamma=1, kernel=linear, total=   0.0s\n",
      "[CV] C=0.05, gamma=10, kernel=rbf ....................................\n",
      "[CV] ..................... C=0.05, gamma=10, kernel=rbf, total=   0.0s\n",
      "[CV] C=0.05, gamma=10, kernel=rbf ....................................\n",
      "[CV] ..................... C=0.05, gamma=10, kernel=rbf, total=   0.0s\n",
      "[CV] C=0.05, gamma=10, kernel=rbf ....................................\n",
      "[CV] ..................... C=0.05, gamma=10, kernel=rbf, total=   0.0s\n",
      "[CV] C=0.05, gamma=10, kernel=linear .................................\n",
      "[CV] .................. C=0.05, gamma=10, kernel=linear, total=   0.0s\n",
      "[CV] C=0.05, gamma=10, kernel=linear .................................\n",
      "[CV] .................. C=0.05, gamma=10, kernel=linear, total=   0.0s\n",
      "[CV] C=0.05, gamma=10, kernel=linear .................................\n",
      "[CV] .................. C=0.05, gamma=10, kernel=linear, total=   0.0s\n",
      "[CV] C=0.05, gamma=50, kernel=rbf ....................................\n",
      "[CV] ..................... C=0.05, gamma=50, kernel=rbf, total=   0.0s\n",
      "[CV] C=0.05, gamma=50, kernel=rbf ....................................\n",
      "[CV] ..................... C=0.05, gamma=50, kernel=rbf, total=   0.0s\n",
      "[CV] C=0.05, gamma=50, kernel=rbf ....................................\n",
      "[CV] ..................... C=0.05, gamma=50, kernel=rbf, total=   0.0s\n",
      "[CV] C=0.05, gamma=50, kernel=linear .................................\n",
      "[CV] .................. C=0.05, gamma=50, kernel=linear, total=   0.0s\n",
      "[CV] C=0.05, gamma=50, kernel=linear .................................\n",
      "[CV] .................. C=0.05, gamma=50, kernel=linear, total=   0.0s\n",
      "[CV] C=0.05, gamma=50, kernel=linear .................................\n",
      "[CV] .................. C=0.05, gamma=50, kernel=linear, total=   0.0s\n",
      "[CV] C=0.5, gamma=0.1, kernel=rbf ....................................\n",
      "[CV] ..................... C=0.5, gamma=0.1, kernel=rbf, total=   0.0s\n",
      "[CV] C=0.5, gamma=0.1, kernel=rbf ....................................\n",
      "[CV] ..................... C=0.5, gamma=0.1, kernel=rbf, total=   0.0s\n",
      "[CV] C=0.5, gamma=0.1, kernel=rbf ....................................\n",
      "[CV] ..................... C=0.5, gamma=0.1, kernel=rbf, total=   0.0s\n",
      "[CV] C=0.5, gamma=0.1, kernel=linear .................................\n",
      "[CV] .................. C=0.5, gamma=0.1, kernel=linear, total=   0.0s\n",
      "[CV] C=0.5, gamma=0.1, kernel=linear .................................\n",
      "[CV] .................. C=0.5, gamma=0.1, kernel=linear, total=   0.1s\n",
      "[CV] C=0.5, gamma=0.1, kernel=linear .................................\n",
      "[CV] .................. C=0.5, gamma=0.1, kernel=linear, total=   0.0s\n",
      "[CV] C=0.5, gamma=1, kernel=rbf ......................................\n",
      "[CV] ....................... C=0.5, gamma=1, kernel=rbf, total=   0.0s\n",
      "[CV] C=0.5, gamma=1, kernel=rbf ......................................\n",
      "[CV] ....................... C=0.5, gamma=1, kernel=rbf, total=   0.0s\n",
      "[CV] C=0.5, gamma=1, kernel=rbf ......................................\n",
      "[CV] ....................... C=0.5, gamma=1, kernel=rbf, total=   0.0s\n",
      "[CV] C=0.5, gamma=1, kernel=linear ...................................\n",
      "[CV] .................... C=0.5, gamma=1, kernel=linear, total=   0.0s\n",
      "[CV] C=0.5, gamma=1, kernel=linear ...................................\n",
      "[CV] .................... C=0.5, gamma=1, kernel=linear, total=   0.1s\n",
      "[CV] C=0.5, gamma=1, kernel=linear ...................................\n",
      "[CV] .................... C=0.5, gamma=1, kernel=linear, total=   0.0s\n",
      "[CV] C=0.5, gamma=10, kernel=rbf .....................................\n",
      "[CV] ...................... C=0.5, gamma=10, kernel=rbf, total=   0.0s\n",
      "[CV] C=0.5, gamma=10, kernel=rbf .....................................\n",
      "[CV] ...................... C=0.5, gamma=10, kernel=rbf, total=   0.0s\n",
      "[CV] C=0.5, gamma=10, kernel=rbf .....................................\n",
      "[CV] ...................... C=0.5, gamma=10, kernel=rbf, total=   0.0s\n",
      "[CV] C=0.5, gamma=10, kernel=linear ..................................\n",
      "[CV] ................... C=0.5, gamma=10, kernel=linear, total=   0.0s\n",
      "[CV] C=0.5, gamma=10, kernel=linear ..................................\n",
      "[CV] ................... C=0.5, gamma=10, kernel=linear, total=   0.1s\n",
      "[CV] C=0.5, gamma=10, kernel=linear ..................................\n",
      "[CV] ................... C=0.5, gamma=10, kernel=linear, total=   0.0s\n",
      "[CV] C=0.5, gamma=50, kernel=rbf .....................................\n",
      "[CV] ...................... C=0.5, gamma=50, kernel=rbf, total=   0.0s\n",
      "[CV] C=0.5, gamma=50, kernel=rbf .....................................\n",
      "[CV] ...................... C=0.5, gamma=50, kernel=rbf, total=   0.0s\n",
      "[CV] C=0.5, gamma=50, kernel=rbf .....................................\n",
      "[CV] ...................... C=0.5, gamma=50, kernel=rbf, total=   0.0s\n",
      "[CV] C=0.5, gamma=50, kernel=linear ..................................\n",
      "[CV] ................... C=0.5, gamma=50, kernel=linear, total=   0.0s\n",
      "[CV] C=0.5, gamma=50, kernel=linear ..................................\n",
      "[CV] ................... C=0.5, gamma=50, kernel=linear, total=   0.1s\n",
      "[CV] C=0.5, gamma=50, kernel=linear ..................................\n",
      "[CV] ................... C=0.5, gamma=50, kernel=linear, total=   0.0s\n",
      "[CV] C=1, gamma=0.1, kernel=rbf ......................................\n",
      "[CV] ....................... C=1, gamma=0.1, kernel=rbf, total=   0.0s\n",
      "[CV] C=1, gamma=0.1, kernel=rbf ......................................\n",
      "[CV] ....................... C=1, gamma=0.1, kernel=rbf, total=   0.0s\n",
      "[CV] C=1, gamma=0.1, kernel=rbf ......................................\n",
      "[CV] ....................... C=1, gamma=0.1, kernel=rbf, total=   0.0s\n",
      "[CV] C=1, gamma=0.1, kernel=linear ...................................\n",
      "[CV] .................... C=1, gamma=0.1, kernel=linear, total=   0.1s\n",
      "[CV] C=1, gamma=0.1, kernel=linear ...................................\n",
      "[CV] .................... C=1, gamma=0.1, kernel=linear, total=   0.0s\n",
      "[CV] C=1, gamma=0.1, kernel=linear ...................................\n",
      "[CV] .................... C=1, gamma=0.1, kernel=linear, total=   0.1s\n",
      "[CV] C=1, gamma=1, kernel=rbf ........................................\n",
      "[CV] ......................... C=1, gamma=1, kernel=rbf, total=   0.0s\n",
      "[CV] C=1, gamma=1, kernel=rbf ........................................\n",
      "[CV] ......................... C=1, gamma=1, kernel=rbf, total=   0.0s\n",
      "[CV] C=1, gamma=1, kernel=rbf ........................................\n",
      "[CV] ......................... C=1, gamma=1, kernel=rbf, total=   0.0s\n",
      "[CV] C=1, gamma=1, kernel=linear .....................................\n",
      "[CV] ...................... C=1, gamma=1, kernel=linear, total=   0.1s\n",
      "[CV] C=1, gamma=1, kernel=linear .....................................\n",
      "[CV] ...................... C=1, gamma=1, kernel=linear, total=   0.0s\n",
      "[CV] C=1, gamma=1, kernel=linear .....................................\n",
      "[CV] ...................... C=1, gamma=1, kernel=linear, total=   0.1s\n",
      "[CV] C=1, gamma=10, kernel=rbf .......................................\n",
      "[CV] ........................ C=1, gamma=10, kernel=rbf, total=   0.0s\n",
      "[CV] C=1, gamma=10, kernel=rbf .......................................\n",
      "[CV] ........................ C=1, gamma=10, kernel=rbf, total=   0.0s\n",
      "[CV] C=1, gamma=10, kernel=rbf .......................................\n",
      "[CV] ........................ C=1, gamma=10, kernel=rbf, total=   0.0s\n",
      "[CV] C=1, gamma=10, kernel=linear ....................................\n",
      "[CV] ..................... C=1, gamma=10, kernel=linear, total=   0.1s\n",
      "[CV] C=1, gamma=10, kernel=linear ....................................\n",
      "[CV] ..................... C=1, gamma=10, kernel=linear, total=   0.0s\n",
      "[CV] C=1, gamma=10, kernel=linear ....................................\n",
      "[CV] ..................... C=1, gamma=10, kernel=linear, total=   0.1s\n",
      "[CV] C=1, gamma=50, kernel=rbf .......................................\n",
      "[CV] ........................ C=1, gamma=50, kernel=rbf, total=   0.0s\n",
      "[CV] C=1, gamma=50, kernel=rbf .......................................\n",
      "[CV] ........................ C=1, gamma=50, kernel=rbf, total=   0.0s\n",
      "[CV] C=1, gamma=50, kernel=rbf .......................................\n",
      "[CV] ........................ C=1, gamma=50, kernel=rbf, total=   0.0s\n",
      "[CV] C=1, gamma=50, kernel=linear ....................................\n",
      "[CV] ..................... C=1, gamma=50, kernel=linear, total=   0.1s\n",
      "[CV] C=1, gamma=50, kernel=linear ....................................\n",
      "[CV] ..................... C=1, gamma=50, kernel=linear, total=   0.0s\n",
      "[CV] C=1, gamma=50, kernel=linear ....................................\n"
     ]
    },
    {
     "name": "stdout",
     "output_type": "stream",
     "text": [
      "[CV] ..................... C=1, gamma=50, kernel=linear, total=   0.1s\n"
     ]
    },
    {
     "name": "stderr",
     "output_type": "stream",
     "text": [
      "[Parallel(n_jobs=1)]: Done  96 out of  96 | elapsed:    1.7s finished\n"
     ]
    },
    {
     "data": {
      "text/plain": [
       "GridSearchCV(cv=3, error_score='raise-deprecating',\n",
       "             estimator=SVC(C=1.0, cache_size=200, class_weight=None, coef0=0.0,\n",
       "                           decision_function_shape='ovr', degree=3,\n",
       "                           gamma='auto_deprecated', kernel='rbf', max_iter=-1,\n",
       "                           probability=False, random_state=None, shrinking=True,\n",
       "                           tol=0.001, verbose=False),\n",
       "             iid='warn', n_jobs=None,\n",
       "             param_grid={'C': [0.01, 0.05, 0.5, 1], 'gamma': [0.1, 1, 10, 50],\n",
       "                         'kernel': ['rbf', 'linear']},\n",
       "             pre_dispatch='2*n_jobs', refit=True, return_train_score=False,\n",
       "             scoring='accuracy', verbose=2)"
      ]
     },
     "execution_count": 229,
     "metadata": {},
     "output_type": "execute_result"
    },
    {
     "name": "stdout",
     "output_type": "stream",
     "text": [
      "1.8538029193878174 Seconds\n"
     ]
    }
   ],
   "source": [
    "start_time = time.time()\n",
    "\n",
    "gscv.fit(x_train, y_train)\n",
    "\n",
    "print(time.time() - start_time, 'Seconds')"
   ]
  },
  {
   "cell_type": "code",
   "execution_count": 230,
   "metadata": {},
   "outputs": [
    {
     "data": {
      "text/plain": [
       "{'C': 0.01, 'gamma': 0.1, 'kernel': 'linear'}"
      ]
     },
     "execution_count": 230,
     "metadata": {},
     "output_type": "execute_result"
    },
    {
     "data": {
      "text/plain": [
       "0.8"
      ]
     },
     "execution_count": 230,
     "metadata": {},
     "output_type": "execute_result"
    }
   ],
   "source": [
    "gscv.best_params_\n",
    "gscv.best_score_"
   ]
  },
  {
   "cell_type": "code",
   "execution_count": 257,
   "metadata": {},
   "outputs": [],
   "source": [
    "svc_score_grid = gscv.best_score_ "
   ]
  },
  {
   "cell_type": "code",
   "execution_count": 258,
   "metadata": {},
   "outputs": [
    {
     "data": {
      "text/plain": [
       "0.8"
      ]
     },
     "execution_count": 258,
     "metadata": {},
     "output_type": "execute_result"
    }
   ],
   "source": [
    "svc_score_grid"
   ]
  },
  {
   "cell_type": "code",
   "execution_count": null,
   "metadata": {},
   "outputs": [],
   "source": []
  },
  {
   "cell_type": "code",
   "execution_count": 259,
   "metadata": {},
   "outputs": [],
   "source": [
    "name = ['Logistic','Logistic_rfe','DTree','DTress_rfe','RandomForest','RandomForestGridSearch','AdaBoost','SVM','SVM_grid']\n",
    "values = [log_score,log_score_rfe, DT_score_train, DT_score_rfe,rfc_score,rfc_score_grid,abc_score,svc_score,svc_score_grid]"
   ]
  },
  {
   "cell_type": "markdown",
   "metadata": {},
   "source": [
    "## Accuracy Plot"
   ]
  },
  {
   "cell_type": "code",
   "execution_count": 266,
   "metadata": {},
   "outputs": [
    {
     "data": {
      "image/png": "[encoded data removed]",
      "text/plain": [
       "<Figure size 1080x576 with 1 Axes>"
      ]
     },
     "metadata": {
      "needs_background": "light"
     },
     "output_type": "display_data"
    }
   ],
   "source": [
    "plt.figure(figsize = (15,8))\n",
    "sns.barplot(name,values);\n",
    "plt.legend(name, loc = 'best')\n",
    "plt.show();"
   ]
  },
  {
   "cell_type": "code",
   "execution_count": null,
   "metadata": {},
   "outputs": [],
   "source": []
  },
  {
   "cell_type": "code",
   "execution_count": null,
   "metadata": {},
   "outputs": [],
   "source": []
  },
  {
   "cell_type": "code",
   "execution_count": null,
   "metadata": {},
   "outputs": [],
   "source": []
  },
  {
   "cell_type": "code",
   "execution_count": null,
   "metadata": {},
   "outputs": [],
   "source": []
  },
  {
   "cell_type": "code",
   "execution_count": 2,
   "metadata": {},
   "outputs": [],
   "source": [
    "import tkinter"
   ]
  },
  {
   "cell_type": "code",
   "execution_count": 5,
   "metadata": {},
   "outputs": [],
   "source": [
    "tk = tkinter.Tk()"
   ]
  },
  {
   "cell_type": "code",
   "execution_count": 6,
   "metadata": {},
   "outputs": [
    {
     "data": {
      "text/plain": [
       "''"
      ]
     },
     "execution_count": 6,
     "metadata": {},
     "output_type": "execute_result"
    }
   ],
   "source": [
    "tk.title(\"GUI\")"
   ]
  },
  {
   "cell_type": "code",
   "execution_count": 8,
   "metadata": {},
   "outputs": [],
   "source": [
    "label = tkinter.Label(tk, text = \"Welcome to DataCamp's Tutorial on Tkinter!\").pack()\n",
    "tk.mainloop()"
   ]
  },
  {
   "cell_type": "code",
   "execution_count": 11,
   "metadata": {},
   "outputs": [],
   "source": [
    "window = tkinter.Tk()\n",
    "window.title(\"Button GUI\")\n",
    "button_widget = tkinter.Button(window,text=\"Welcome to DataCamp's Tutorial on Tkinter\")\n",
    "button_widget.pack()\n",
    "tkinter.mainloop()"
   ]
  },
  {
   "cell_type": "code",
   "execution_count": 16,
   "metadata": {},
   "outputs": [
    {
     "ename": "TclError",
     "evalue": "unknown option \"-option\"",
     "output_type": "error",
     "traceback": [
      "\u001b[1;31m---------------------------------------------------------------------------\u001b[0m",
      "\u001b[1;31mTclError\u001b[0m                                  Traceback (most recent call last)",
      "\u001b[1;32m<ipython-input-16-b7b4a464f90e>\u001b[0m in \u001b[0;36m<module>\u001b[1;34m\u001b[0m\n\u001b[0;32m      1\u001b[0m \u001b[0mtk\u001b[0m \u001b[1;33m=\u001b[0m \u001b[0mtkinter\u001b[0m\u001b[1;33m.\u001b[0m\u001b[0mTk\u001b[0m\u001b[1;33m(\u001b[0m\u001b[1;33m)\u001b[0m\u001b[1;33m\u001b[0m\u001b[1;33m\u001b[0m\u001b[0m\n\u001b[0;32m      2\u001b[0m \u001b[0mtk\u001b[0m\u001b[1;33m.\u001b[0m\u001b[0mtitle\u001b[0m\u001b[1;33m(\u001b[0m\u001b[1;34m\"Button GUI\"\u001b[0m\u001b[1;33m)\u001b[0m\u001b[1;33m\u001b[0m\u001b[1;33m\u001b[0m\u001b[0m\n\u001b[1;32m----> 3\u001b[1;33m \u001b[0mbutton_widget\u001b[0m \u001b[1;33m=\u001b[0m \u001b[0mtkinter\u001b[0m\u001b[1;33m.\u001b[0m\u001b[0mButton\u001b[0m\u001b[1;33m(\u001b[0m\u001b[0mwindow\u001b[0m\u001b[1;33m,\u001b[0m\u001b[0moption\u001b[0m\u001b[1;33m=\u001b[0m \u001b[1;34m\"Downloads/Accuracy_plot.png\"\u001b[0m\u001b[1;33m)\u001b[0m\u001b[1;33m\u001b[0m\u001b[1;33m\u001b[0m\u001b[0m\n\u001b[0m\u001b[0;32m      4\u001b[0m \u001b[0mbutton_widget\u001b[0m\u001b[1;33m.\u001b[0m\u001b[0mpack\u001b[0m\u001b[1;33m(\u001b[0m\u001b[1;33m)\u001b[0m\u001b[1;33m\u001b[0m\u001b[1;33m\u001b[0m\u001b[0m\n\u001b[0;32m      5\u001b[0m \u001b[0mtkinter\u001b[0m\u001b[1;33m.\u001b[0m\u001b[0mmainloop\u001b[0m\u001b[1;33m(\u001b[0m\u001b[1;33m)\u001b[0m\u001b[1;33m\u001b[0m\u001b[1;33m\u001b[0m\u001b[0m\n",
      "\u001b[1;32mC:\\ProgramData\\Anaconda3\\lib\\tkinter\\__init__.py\u001b[0m in \u001b[0;36m__init__\u001b[1;34m(self, master, cnf, **kw)\u001b[0m\n\u001b[0;32m   2367\u001b[0m             \u001b[0moverrelief\u001b[0m\u001b[1;33m,\u001b[0m \u001b[0mstate\u001b[0m\u001b[1;33m,\u001b[0m \u001b[0mwidth\u001b[0m\u001b[1;33m\u001b[0m\u001b[1;33m\u001b[0m\u001b[0m\n\u001b[0;32m   2368\u001b[0m         \"\"\"\n\u001b[1;32m-> 2369\u001b[1;33m         \u001b[0mWidget\u001b[0m\u001b[1;33m.\u001b[0m\u001b[0m__init__\u001b[0m\u001b[1;33m(\u001b[0m\u001b[0mself\u001b[0m\u001b[1;33m,\u001b[0m \u001b[0mmaster\u001b[0m\u001b[1;33m,\u001b[0m \u001b[1;34m'button'\u001b[0m\u001b[1;33m,\u001b[0m \u001b[0mcnf\u001b[0m\u001b[1;33m,\u001b[0m \u001b[0mkw\u001b[0m\u001b[1;33m)\u001b[0m\u001b[1;33m\u001b[0m\u001b[1;33m\u001b[0m\u001b[0m\n\u001b[0m\u001b[0;32m   2370\u001b[0m \u001b[1;33m\u001b[0m\u001b[0m\n\u001b[0;32m   2371\u001b[0m     \u001b[1;32mdef\u001b[0m \u001b[0mflash\u001b[0m\u001b[1;33m(\u001b[0m\u001b[0mself\u001b[0m\u001b[1;33m)\u001b[0m\u001b[1;33m:\u001b[0m\u001b[1;33m\u001b[0m\u001b[1;33m\u001b[0m\u001b[0m\n",
      "\u001b[1;32mC:\\ProgramData\\Anaconda3\\lib\\tkinter\\__init__.py\u001b[0m in \u001b[0;36m__init__\u001b[1;34m(self, master, widgetName, cnf, kw, extra)\u001b[0m\n\u001b[0;32m   2297\u001b[0m             \u001b[1;32mdel\u001b[0m \u001b[0mcnf\u001b[0m\u001b[1;33m[\u001b[0m\u001b[0mk\u001b[0m\u001b[1;33m]\u001b[0m\u001b[1;33m\u001b[0m\u001b[1;33m\u001b[0m\u001b[0m\n\u001b[0;32m   2298\u001b[0m         self.tk.call(\n\u001b[1;32m-> 2299\u001b[1;33m             (widgetName, self._w) + extra + self._options(cnf))\n\u001b[0m\u001b[0;32m   2300\u001b[0m         \u001b[1;32mfor\u001b[0m \u001b[0mk\u001b[0m\u001b[1;33m,\u001b[0m \u001b[0mv\u001b[0m \u001b[1;32min\u001b[0m \u001b[0mclasses\u001b[0m\u001b[1;33m:\u001b[0m\u001b[1;33m\u001b[0m\u001b[1;33m\u001b[0m\u001b[0m\n\u001b[0;32m   2301\u001b[0m             \u001b[0mk\u001b[0m\u001b[1;33m.\u001b[0m\u001b[0mconfigure\u001b[0m\u001b[1;33m(\u001b[0m\u001b[0mself\u001b[0m\u001b[1;33m,\u001b[0m \u001b[0mv\u001b[0m\u001b[1;33m)\u001b[0m\u001b[1;33m\u001b[0m\u001b[1;33m\u001b[0m\u001b[0m\n",
      "\u001b[1;31mTclError\u001b[0m: unknown option \"-option\""
     ]
    }
   ],
   "source": [
    "tk = tkinter.Tk()\n",
    "tk.title(\"Button GUI\")\n",
    "button_widget = tkinter.Button(window,option= \"Downloads/Accuracy_plot.png\")\n",
    "button_widget.pack()\n",
    "tkinter.mainloop()"
   ]
  },
  {
   "cell_type": "code",
   "execution_count": 21,
   "metadata": {},
   "outputs": [],
   "source": [
    "import tkinter\n",
    "\n",
    "# Let's create the Tkinter window.\n",
    "window = tkinter.Tk()\n",
    "window.title(\"GUI\")\n",
    "\n",
    "# You will first create a division with the help of Frame class and align them on TOP and BOTTOM with pack() method.\n",
    "top_frame = tkinter.Frame(window).pack()\n",
    "bottom_frame = tkinter.Frame(window).pack(side = \"bottom\")\n",
    "\n",
    "# Once the frames are created then you are all set to add widgets in both the frames.\n",
    "btn1 = tkinter.Button(top_frame, text = \"Button1\", fg = \"red\").pack() #'fg or foreground' is for coloring the contents (buttons)\n",
    "\n",
    "btn2 = tkinter.Button(top_frame, text = \"Button2\", fg = \"green\").pack()\n",
    "\n",
    "btn3 = tkinter.Button(bottom_frame, text = \"Button3\", fg = \"purple\").pack(side = \"left\") #'side' is used to left or right align the widgets\n",
    "\n",
    "btn4 = tkinter.Button(bottom_frame, text = \"Button4\", fg = \"orange\").pack(side = \"left\")\n",
    "\n",
    "window.mainloop()"
   ]
  },
  {
   "cell_type": "code",
   "execution_count": 50,
   "metadata": {},
   "outputs": [],
   "source": [
    "window = tkinter.Tk()\n",
    "\n",
    "\n",
    "\n",
    "photo = tkinter.PhotoImage(file = r\"C:\\Users\\CR GAYATHRI\\Desktop\\Python_Internship\\Fraud_Detect\\Accuracy_plot.PNG\") \n",
    "\n",
    "tkinter.Button(window, text = 'Click Me !', image = photo).pack(side = \"top\")\n",
    "\n",
    "window.mainloop()"
   ]
  },
  {
   "cell_type": "code",
   "execution_count": null,
   "metadata": {},
   "outputs": [],
   "source": []
  }
 ],
 "metadata": {
  "kernelspec": {
   "display_name": "Python 3",
   "language": "python",
   "name": "python3"
  },
  "language_info": {
   "codemirror_mode": {
    "name": "ipython",
    "version": 3
   },
   "file_extension": ".py",
   "mimetype": "text/x-python",
   "name": "python",
   "nbconvert_exporter": "python",
   "pygments_lexer": "ipython3",
   "version": "3.7.4"
  }
 },
 "nbformat": 4,
 "nbformat_minor": 2
}
